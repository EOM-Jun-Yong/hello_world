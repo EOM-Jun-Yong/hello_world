{
  "nbformat": 4,
  "nbformat_minor": 0,
  "metadata": {
    "colab": {
      "name": "spam_ham.ipynb",
      "provenance": [],
      "authorship_tag": "ABX9TyOwpzza175rZNPkt96j0+kK",
      "include_colab_link": true
    },
    "kernelspec": {
      "name": "python3",
      "display_name": "Python 3"
    },
    "accelerator": "GPU"
  },
  "cells": [
    {
      "cell_type": "markdown",
      "metadata": {
        "id": "view-in-github",
        "colab_type": "text"
      },
      "source": [
        "<a href=\"https://colab.research.google.com/github/EOM-Jun-Yong/hello_world/blob/main/spam_ham.ipynb\" target=\"_parent\"><img src=\"https://colab.research.google.com/assets/colab-badge.svg\" alt=\"Open In Colab\"/></a>"
      ]
    },
    {
      "cell_type": "markdown",
      "metadata": {
        "id": "Lmxp8AEEw3RM"
      },
      "source": [
        "INIT"
      ]
    },
    {
      "cell_type": "code",
      "metadata": {
        "id": "YKlb0DQ4fQmX"
      },
      "source": [
        "import numpy as np\r\n",
        "import pandas as pd\r\n",
        "\r\n",
        "import matplotlib.pyplot as plt\r\n",
        "import seaborn as sns\r\n",
        "plt.style.use('seaborn')\r\n",
        "\r\n",
        "import os\r\n",
        "import tarfile\r\n",
        "import urllib\r\n",
        "import shutil\r\n",
        "\r\n",
        "import string\r\n",
        "import tensorflow as tf\r\n",
        "\r\n",
        "from tensorflow.keras import preprocessing\r\n",
        "from tensorflow.keras import layers\r\n",
        "from tensorflow.keras import losses\r\n",
        "from tensorflow.keras.layers.experimental.preprocessing import TextVectorization"
      ],
      "execution_count": null,
      "outputs": []
    },
    {
      "cell_type": "markdown",
      "metadata": {
        "id": "c8xzj4yFw6D8"
      },
      "source": [
        "FILE DOWNLOAD"
      ]
    },
    {
      "cell_type": "code",
      "metadata": {
        "id": "X_Pr943kgd7V"
      },
      "source": [
        "SPAM_PATH = os.path.join('spam')\r\n",
        "SPAM_URL = 'https://spamassassin.apache.org/old/publiccorpus/20050311_spam_2.tar.bz2'\r\n",
        "HAM_PATH = os.path.join('ham')\r\n",
        "HAM_URL = 'https://spamassassin.apache.org/old/publiccorpus/20030228_easy_ham_2.tar.bz2'"
      ],
      "execution_count": null,
      "outputs": []
    },
    {
      "cell_type": "code",
      "metadata": {
        "id": "cEg5PSmzhM2l"
      },
      "source": [
        "def fetch_data(data_url=SPAM_URL, data_path=SPAM_PATH):\r\n",
        "  os.makedirs(data_path, exist_ok=True)\r\n",
        "  tgz_path = os.path.join(data_path, '*.tar.bz2')\r\n",
        "  urllib.request.urlretrieve(data_url, tgz_path)\r\n",
        "  mail_tgz = tarfile.open(tgz_path)\r\n",
        "  mail_tgz.extractall(path=data_path)\r\n",
        "  mail_tgz.close()"
      ],
      "execution_count": null,
      "outputs": []
    },
    {
      "cell_type": "code",
      "metadata": {
        "id": "6e3xpnnGjCwf"
      },
      "source": [
        "fetch_data(data_url=SPAM_URL, data_path=SPAM_PATH)\r\n",
        "fetch_data(data_url=HAM_URL, data_path=HAM_PATH)"
      ],
      "execution_count": null,
      "outputs": []
    },
    {
      "cell_type": "code",
      "metadata": {
        "id": "8qzzCkXyjUx3"
      },
      "source": [
        "spam_dir = os.path.join('spam/spam_2')\r\n",
        "ham_dir = os.path.join('ham/easy_ham_2')"
      ],
      "execution_count": null,
      "outputs": []
    },
    {
      "cell_type": "code",
      "metadata": {
        "colab": {
          "base_uri": "https://localhost:8080/"
        },
        "id": "_R7YFD4TklTH",
        "outputId": "20a39377-663b-44c4-9412-5d5563f9ce83"
      },
      "source": [
        "os.listdir(spam_dir)"
      ],
      "execution_count": null,
      "outputs": [
        {
          "output_type": "execute_result",
          "data": {
            "text/plain": [
              "['01294.1b87da1a627d8b8f126839dad1220a1c',\n",
              " '01108.0a4bf099b98c488b65e8d6ca685d6867',\n",
              " '00860.f1651a6a5f33bafe34e23afeacf85eb1',\n",
              " '00977.6b7587a392363b73c8312b72b4972c24',\n",
              " '00404.deea51c7b46665faf98fe6c5b5f88810',\n",
              " '00210.2942a339c3792a1010d024e6d6ba032e',\n",
              " '00955.0e418cf2dca0e0ac90fcaf35f5cedbc3',\n",
              " '00630.ece73cd5ba46bf19ac2ceb9d7e21cea1',\n",
              " '00780.9bba1736be4e930c0cb2dbc9e6cd1222',\n",
              " '01284.218c046acbc79f6f52c767fcb3fabbbc',\n",
              " '00873.9aafc086e6f619ccaaed6b3ddb68b013',\n",
              " '01322.ff3e699f59f732ca886de5873eef313e',\n",
              " '01147.50120ae9e4f1745bf7a4178b52cd95ca',\n",
              " '00716.125a0992aa9fd11f5e7a8fa5a93a048e',\n",
              " '00559.f134a8ef403b9c3cc92f44a808a97403',\n",
              " '00731.f62550b637d55a42158889ef47fcab7e',\n",
              " '00159.6b641c70d79fd5a69b84a94b4e88150a',\n",
              " '00078.f318607d8f4699d51f456fea10838c5a',\n",
              " '01024.5b32720b2ad57ee16bd959a5cf58f575',\n",
              " '00898.8b3fe8deaa79f08133be78fc63e726c9',\n",
              " '01065.9ecef01b01ca912fa35453196b4dae4c',\n",
              " '01277.6763a79fad1f1b39cb7d5b7faf92ea98',\n",
              " '00739.150e80f7508e247fa15d43697e80ed30',\n",
              " '00965.2003cb62905ba569e7599826ed228c94',\n",
              " '00333.050a95c5ed10d1e01e5da42d27d087bd',\n",
              " '00608.bf7d77ef4f28552278f78a5aef71f0cf',\n",
              " '00815.a94675622ac65f9a21ab1b83cc869ee6',\n",
              " '00934.b37514ad4dc0c555779c813c1ce49e21',\n",
              " '01234.0bcd772346e2970c6246f40359cf4de5',\n",
              " '01169.4e5cf6c3e8863047dbba1bfca2ebab97',\n",
              " '00271.7105f4998a88cbf4036403f61ba60d65',\n",
              " '00261.e679a9947bd481d47fb1a3d83b482fd5',\n",
              " '00624.ac49070506c194c1fad5953ccd32731b',\n",
              " '00048.91474353d7616d0df44b0fb04e2899ff',\n",
              " '01168.c4a3b7ac6d07798d651af84ea5d9b360',\n",
              " '01038.95ce9be665025f2ab826870d509337c6',\n",
              " '00588.44b644374b89ba4885f91f0ed836e622',\n",
              " '00908.718f913e615b66df1c33cfb0af8e8885',\n",
              " '00389.a4504d4c023b095c4907db14c65ea28f',\n",
              " '01221.baf498fd213b8bc77b9dbfb13c1a6968',\n",
              " '01306.d37be8871ac501758c6854fbef9cbdd2',\n",
              " '00883.a154f7c7619d620a00deb7da892ca4ce',\n",
              " '00289.ce923605b55bfa316d567763565e6bc9',\n",
              " '00382.2e6245e7b689da67dc8cf1a600d804fa',\n",
              " '01252.85c2b9eb83de6e0447fdf956e9bd499c',\n",
              " '00735.474fd4bc103225c72fd82d88bba48e56',\n",
              " '00521.70417de823222858b4100b6030a64168',\n",
              " '00593.b0c2ee36cf966faf1b5239df81ec1f8d',\n",
              " '00267.15fd4bd56e4a0466d3031f8f16803c8e',\n",
              " '00344.e6463530b23a12554d2e6f0e08ae10a7',\n",
              " '00050.bdb8b228ff67fd4a61f8b0c8e81240c9',\n",
              " '01114.1499922e828350a4f6076ef4a0de3ec5',\n",
              " '01174.701ed2374fd181a0a63c8bfbc52a911c',\n",
              " '01014.98c1d0a70f88efb979d9ca65e945363e',\n",
              " '01021.8e30e6b936bfbdc8528c50d4a3ca378c',\n",
              " '01362.794d3043053407d8e0c075a9a71902bd',\n",
              " '00435.5fcb8673ad1922e806a0505769985c69',\n",
              " '00362.73409498731cffe86816918aae62cbbb',\n",
              " '00903.1b151e48aafed20229a1880c1d558992',\n",
              " '00221.775c9348b935d966a9afec954f1e9c27',\n",
              " '00892.98aff9f92339cedef0ce0b9bade2765f',\n",
              " '01043.0c5ba977fb678deeff6b841772e76c86',\n",
              " '00631.5b4f290bc474889ff457b314996553b1',\n",
              " '01182.209dbb3bedae1ecd5ed23fb03049244e',\n",
              " '01251.732693934f4ae61749224eaf9f19c973',\n",
              " '00224.1b3430b101a8a8b22493c4948fcbe9cc',\n",
              " '01380.fa9b4e89ba485def2921e01ae9fb7671',\n",
              " '00219.b1e53bdc90b763f8073f3270e3f6e811',\n",
              " '00998.92da52a65a4d039a6b9c02b0d65a1bbf',\n",
              " '01280.34dde162b3c6b2e873fc9f094d28b0fd',\n",
              " '01124.978b767962c91cc5c173cc4044b4658a',\n",
              " '00711.75e5cd5b1ad023e0b50175e4dc5c781e',\n",
              " '00547.8519a982bb78c6994959d9a4b3d4c9a3',\n",
              " '00133.7dbf2e71621f92eada31cc655ff12fd3',\n",
              " '00035.bd7183c238b884a153ad4888fbee9bf6',\n",
              " '00878.47676ab279418e3e1ef3f5948eda4f66',\n",
              " '00101.1eefdf65cf34445662c1d308ef78d103',\n",
              " '00583.b780ea187746d4722e9a684fe34f0cc9',\n",
              " '00491.008606ae6538b605f82b61913814d3dd',\n",
              " '00532.f9e75080635b69a666e530fb8aa46a57',\n",
              " '01023.1f96236c94e92482c058e950ccd7a590',\n",
              " '00075.f1c6bf042cf0ed13452e4a15929db8cd',\n",
              " '01010.584ca28025d60d58521b4dd453125431',\n",
              " '00659.668ba8daca71e86de0ee5e412b177015',\n",
              " '00505.d4fa302630b3e58461b644f7b3e11d82',\n",
              " '00503.4b7a98571703ac6770713c31b431b274',\n",
              " '00697.2d221d167d2814a6a6bc7a74b65bcb0e',\n",
              " '01192.ae36c1ea662d5daa57777838507cceef',\n",
              " '00300.6ca4fee75f6afbd00581ceec6cf14fac',\n",
              " '00745.a0f2c78f1a75fe880532f0c432aa12d2',\n",
              " '00707.c863801ca5be49e90ee68ab449ba5a84',\n",
              " '00130.1ad579dc65cd646549fe87f565bdec5c',\n",
              " '01288.ffe370e3a92a1861533330da51edcb49',\n",
              " '00531.f3fffa4504c7009a03dd0d44a4562a84',\n",
              " '00373.a2e4ba80486fdff8084086d447e01d17',\n",
              " '00647.b0b1e3fce3450265e0e307a459ec4da6',\n",
              " '00550.f7e75438e70eb4222c1a93fd190c8ce1',\n",
              " '00141.29b1847b5d4131c536a812cdc88326eb',\n",
              " '01183.1686c7ca72908096192dc3ebcde515d9',\n",
              " '00233.3c32285387ebc0675adb029b9e20e581',\n",
              " '00240.48e29876af05d3b43e0b6a510a8fc837',\n",
              " '00183.47b495fc7ebd7807affa6425de6419b3',\n",
              " '00251.2ca1d22841d472917231911f63572dfd',\n",
              " '00476.38e32c20c334317781e90c3e6754fbe9',\n",
              " '01172.cc7a00858cafd43ad994a3f1a42a5434',\n",
              " '00779.cfeedd9839de273525bae85b56ebf146',\n",
              " '00138.acef24ad51f98e3192d5a0348543f02f',\n",
              " '00760.254b8986f3d7b6cbda1cc7ce16860e6c',\n",
              " '00175.931897f329f7ed0aee7df9f5d0626359',\n",
              " '00535.6f0720362e104f169c08308d82a8c804',\n",
              " '00345.53eb1900901ea7c0b512d555e919b881',\n",
              " '00098.842b0baaa0f03e439ec3a13ad5556e8c',\n",
              " '00241.490af8faa6e4b94e0affed327e670dae',\n",
              " '00479.84c58aa8adff520d7f58dfde02c1cf10',\n",
              " '00658.2324b3351e766248275bace98fd3c7b3',\n",
              " '00120.b6b2f20782980f83878f075f29d7c517',\n",
              " '01007.255b826a1098e8b7d603c7dcf79f3fba',\n",
              " '00719.bf9933750646983c4ae5f98b6f06ec41',\n",
              " '00848.1fe2e3c6535ebd22e457a3de8e5508b9',\n",
              " '00260.49cb520f5d726da6f1ec32d0e4d2e38f',\n",
              " '01047.2e01ca2cd13baa8ba6fe1429f39f85de',\n",
              " '01181.9f4734afdec4aae228d20e63649253a1',\n",
              " '00849.a1bd18d80b0531de33b9e83cd14f79f2',\n",
              " '00685.1371a47585f33a9b808d68b024c7101b',\n",
              " '01209.01df2f8f68a70062085ef787973f9ba0',\n",
              " '00668.a28b3329f4c8fe4b0761a214362ed3f9',\n",
              " '00417.715ee099f76e69edbeb5604a82a532b4',\n",
              " '00632.f90d0f620d4a4c4976e1c5884333f329',\n",
              " '01122.af6891fafb13c4cc39dab9a4a85449fd',\n",
              " '00273.c832f32bbe447980ad0095b772343563',\n",
              " '00506.85af6cd716febc6265ac7b362a4a1da6',\n",
              " '00932.346c06844805110e9433969f38effc2a',\n",
              " '01112.ded20e59cd4ac9ad9607ce6cfe268ecc',\n",
              " '00164.272880ebd1f1f93cf0cd9800842a24bd',\n",
              " '01173.e0da19fcbb5649aa5104320ce38c6906',\n",
              " '00147.9d7a9ea1fdef9c2161dba859250d2c19',\n",
              " '01142.1d5b741cdc5cb3c026d678a4c8f613d6',\n",
              " '00438.cf76c0c71830d5e8ddec01a597f149a5',\n",
              " '00927.9505a4791424d2a96af8d75baeaa7f58',\n",
              " '00557.01f1bd4d6e5236e78268f10a498c4aba',\n",
              " '00744.87dbfd6aeffb9dac274a89aa3df7e768',\n",
              " '00464.d2f719c667d192af860572b1c858cc11',\n",
              " '00412.2498d35d4ac806f77e31a17839d5c4c2',\n",
              " '00249.b6cad7860d56d8265155580a7c80457d',\n",
              " '01084.c0005822ea0294c6eb9143276b93eb41',\n",
              " '00698.d754f7a62c2f8ce3f331e59ee0978205',\n",
              " '00692.e886bd6ece727e1c1fdbae4dc4b60bb5',\n",
              " '01046.00df3a73895dd0f6a8f22434141257f6',\n",
              " '00862.d930739c4303f999fe161ddb0e14f4a5',\n",
              " '00733.095d8b33e938efa091f1771c622986c9',\n",
              " '00890.3996b985f81cb29cba9dfda9844c47e2',\n",
              " '00995.694aa424a2433d32b9e4997edeeed9b2',\n",
              " '01158.5acbdb7eb695f96c08d960a56058481d',\n",
              " '01276.9e932f3e2497f91aec7f1a8b0aabe200',\n",
              " '00615.e47bff6118d4ff6d98581fa6f40ab871',\n",
              " '01125.46ca779f86e1dd0a03c3ffc67b57f55e',\n",
              " '00284.227c1ebb961320cd2086d904d698c49b',\n",
              " '00312.5034fee7d265abd7a4194e9300de24bf',\n",
              " '01072.ac604802c74de2ebc445efc827299b96',\n",
              " '00403.90a79abcb32065d5381a74a84da2e6bd',\n",
              " '01320.9d28c111c72720b5cd64a025591dbce5',\n",
              " '00060.639a625d0a724d7411e1d5e2e7cb2bc3',\n",
              " '00523.8dad1340c87f606b1f0696df64d9063c',\n",
              " '00794.5e45ec5eb133c2c960f54bf7e4822f77',\n",
              " '01153.423d8f8120ab7fa0946c45a60a44c059',\n",
              " '00331.263b0f2df840360cb4b1ee9016c79d84',\n",
              " '01312.c19bb76293853f6c10871018cebbe8ca',\n",
              " '00915.2f47eee6061e3c631bd51649050b6b02',\n",
              " '00088.34ca147ca21f4b3e966fe58bc054aaf6',\n",
              " '01310.39e7167813c411d9163ceedcba3b3702',\n",
              " '00043.9331daf0bd865aa657cb02cbcd06173b',\n",
              " '01273.b738ce23f30ea10c7ad44d949d111199',\n",
              " '01036.87c1f0b55cb48bd36c8863cf700cd485',\n",
              " '00910.49da3099938f292733872f1e59c8c460',\n",
              " '00701.ea27d8eea96c7d361ea78613d0a3c481',\n",
              " '00768.9900419b1120aac5256e7b1ba0de2b1f',\n",
              " '01106.37f316c0f77e739cb5fe0e37aaea2046',\n",
              " '00772.deb64399accba9b54b5f10ae57c7bbb5',\n",
              " '01365.d90d27bbb210dbdc63ed704b00161315',\n",
              " '00894.f54f07418fc8e677fe0fe5ac60a251ab',\n",
              " '00839.35a9240a97695fd8ef777c6a1ccd3b18',\n",
              " '00305.1f2a712e25638b0a4868155b37022cf1',\n",
              " '00905.8dcb590481d3e3c04d03506100c59497',\n",
              " '00306.9e12acdecaf3825733a1aadc2455b166',\n",
              " '00022.be66c630a142f0d862c2294a2d911ce1',\n",
              " '00670.a3175dd0b4a1e1a26822c5fee6d6837b',\n",
              " '00149.1589b074a69ebc09012d1f6d7ba4c75f',\n",
              " '00689.bc5bea61b7d13a69aba26169afe99d1e',\n",
              " '00321.00c19304d06d2e9fd068873434f1297e',\n",
              " '00826.01ebf3d0e89c1cec3528f9c0950b63d1',\n",
              " '00375.687dc7464b4c4fa822ee453b9ef352df',\n",
              " '01346.fb942e99ad6211fe374675bc9ac639d5',\n",
              " '00606.f078f6f48ae2e41f553882449f2aa613',\n",
              " '00482.f839ea522f1ee459661a6b2fbd71e823',\n",
              " '00198.150ad975a44e356b479b88d8b57edc40',\n",
              " '00795.61fe820f7755e4b4e66e715ea667b338',\n",
              " '01019.994b153571324a2adad60a129c65546a',\n",
              " '00302.7f695c69d4cbe06e91cddd2ca7cddf33',\n",
              " '00046.96a19afe71cd6f1f14c96293557a49ff',\n",
              " '00678.7c54f6e0fac3e7d26a9513d2c60e2b98',\n",
              " '00633.60e6bd78b497893f8b33650bd1c2c0b0',\n",
              " '00084.eab3c85ce1b86d404296fc9d490d30dc',\n",
              " '00828.530a94ab225feb3c5e5a559f51f6eea2',\n",
              " '01229.bec63972cefbe62bb371ad659cd8563a',\n",
              " '00675.233738762477d382d3954e043f866842',\n",
              " '01034.925db77dafa8bdaae1cb31e2ed3b05a4',\n",
              " '00759.23e678ecd735ad618ad151d311c81070',\n",
              " '00865.5021e39ed3259477237997ff88595997',\n",
              " '00346.d93a823fb3350a5da8f0c612ce1156cd',\n",
              " '00792.7889a6082d13a885efadbd5c3576e15a',\n",
              " '00002.9438920e9a55591b18e60d1ed37d992b',\n",
              " '00614.974cdf353242f9286fbcc34673d9f28a',\n",
              " '00013.372ec9dc663418ca71f7d880a76f117a',\n",
              " '01029.d08161f9c60d767804dd9b5148a82025',\n",
              " '00797.de032e70954eb1194f15870abc0f01a4',\n",
              " '01186.a323fbbb1fbb04737201f2eb73b7e663',\n",
              " '00005.ed0aba4d386c5e62bc737cf3f0ed9589',\n",
              " '00567.9a792928197fff7a7a38aee412bf4a07',\n",
              " '00876.f61ec69c2872eb398ba3860a13a17b15',\n",
              " '00160.66e11a17d619ce33d5a455a87015ee25',\n",
              " '00669.790cde659c7d18535eb46cfa4398458d',\n",
              " '01333.1e5a572d1c326c109f613a9d2137acc8',\n",
              " '00867.837631a8172cf448af7e15d4bedba95e',\n",
              " '00541.b3145925dccfa163547afa1299e61807',\n",
              " '00418.16b11d584531ea6f8e334bf92e5560ec',\n",
              " '00769.b4477686a6ab2b52370e3f671ce9a016',\n",
              " '00917.8b2f6c25f3f70a6ef94d5f7f9a505c90',\n",
              " '00259.c5dcbd525138d61d828298225a61aeab',\n",
              " '00178.2dbe6aa90dc38758c946170ff92ec8e8',\n",
              " '00139.cee7452bc16a8e26ea1ad841321c95ce',\n",
              " '00365.b95733057a51e3571746739a620c0e14',\n",
              " '01088.9e2ddb068a1c044b31f2285a9009f15d',\n",
              " '00948.674250d39ae9ea6d1c054fd6f7b52cee',\n",
              " '00724.edc5a3ce2ea91fedbf00aa0c30459a87',\n",
              " '01287.45b0eefc02506c5c82e5ab4ffe2fc625',\n",
              " '00189.074fe7fad584aa9243fadc6d16f8c186',\n",
              " '00490.09cc8eacfd07338802c3ea0e7f07fe26',\n",
              " '00434.73574ecf7afcf2aef7fe6c3ff5158596',\n",
              " '00808.c072069806eb82f9aaf8d21d39789ea6',\n",
              " '00802.0812cab595172a326e8808357b98fcc5',\n",
              " '01379.0d39498608cd170bbbc8cd33ffd18e35',\n",
              " '00907.74983d9d0d6ee3c681a48cf893f123b5',\n",
              " '00229.272500ea65aafe8d05061d11f1164832',\n",
              " '00026.c62c9f08db4ee1b99626dbae575008fe',\n",
              " '01332.f794e2c48ef6535153adde00b521ef6d',\n",
              " '00020.7d36d16fd2be07c4f6a5616590cdea07',\n",
              " '01078.58e6f465de71680b96d9d750b7200a59',\n",
              " '00469.d2c0c55b686454f38eee312c5e190816',\n",
              " '00496.acf53035be6cb4c667fd342551c5d467',\n",
              " '01199.5a219c9b3e55a0136d8039fd74675570',\n",
              " '00424.762694cd4e29f39d544e03cd3c974a25',\n",
              " '00208.c9e30fc9044cdc50682c2e2d2be4c466',\n",
              " '00811.1a510ce29a20ec57048d6b29d0056d57',\n",
              " '00197.d77321043295f3683060dcb2bdb8b822',\n",
              " '00307.79b64580c5c605583aec7b7a4f8679c0',\n",
              " '00796.1f29c490fd2bd8581d19e3e193978a3d',\n",
              " '00330.97460a01c80eb8ef3958118baf379c93',\n",
              " '00153.d20d157c684520f1c3aa8f270f753785',\n",
              " '01263.4e9dc99aae6eafdf9233e60b6d3225f9',\n",
              " '00587.582e355efbb36f9a0d55997e093626ba',\n",
              " '00025.9054470cb5193db2955a4d4a003698d6',\n",
              " '00449.c498bdd182edba9e9ba725c5a5a1f06b',\n",
              " '00920.1534b1c21a196693709357a2a93cacdd',\n",
              " '00258.eb914ca569df16b9e969cc1ff646033f',\n",
              " '01075.07ee7f1ab5ad6659c47baa5ef3691a80',\n",
              " '00085.ae2bf18f9dd33e3d80d11eda4c0be41d',\n",
              " '01002.406c1c709e49cb740f0ce36ebf2d5c78',\n",
              " '00718.2495a50c4eab3755f338b5fe589dd52d',\n",
              " '00237.0faf46ae2bfab24f0464c4a1a0425659',\n",
              " '01099.f33c6cb5a233f19e1dc1956871c50681',\n",
              " '00366.d0ae92900c398d9adf1dd68d35350a21',\n",
              " '00369.ea45bbb3d5cc26da35f7980fcc5ef49a',\n",
              " '00431.c6a126091c0bcbc44e58e238ca4d02c6',\n",
              " '00329.47e3728483bdcad34227e601eb348836',\n",
              " '01121.4dda94a3a06563e7f5e3fa659cf5519a',\n",
              " '00844.83d47c6cf6ac8af6fbb171cf4fa6b109',\n",
              " '00771.e33fd0de6b6c763a697a4fba307091d0',\n",
              " '00935.64a85d481bc17b3b61da7861f9a4d0a3',\n",
              " '00480.682829ef5c1f1639f0a060190c5d4b33',\n",
              " '00742.2700b00dc2dcc121ee0a1322040de188',\n",
              " '00246.d314e68151f961425104dbe6a4e3bc9a',\n",
              " '00793.f081690dc64c0e3bbe8c7198e9caaffc',\n",
              " '01159.ff9629cf51f03cb35075a51950e73a4d',\n",
              " '00042.534ed9af47ca4349d84bc574a4306284',\n",
              " '00310.dd799961317914374088b04cc0fb1b85',\n",
              " '00888.6219edfbe560d4320b9d2e87fe92b639',\n",
              " '01127.5b6f6b674dc0dd99f225bee3d7b32e9e',\n",
              " '01315.88a113666f60469492624820111ee3be',\n",
              " '00866.75636e43a97c4a778325383ae5bb3e6e',\n",
              " '00378.958f8c0f9d486c1e18f835ab65664b4d',\n",
              " '00411.e606c6408dbcda1a60be16896197bace',\n",
              " '00944.fbc64dd9cbcbc201d82256821978f318',\n",
              " '00528.a7b02c9abd9fb303615a956bbc4af548',\n",
              " '00433.e23d484b63694062d857aa6fc4fd6276',\n",
              " '00380.717154ebf88ae594956736cc50bdeaf4',\n",
              " '00420.cf4550c21f1afd532c171e6e3e10f135',\n",
              " '01022.55c9eda45ef3de55b8c27c214a1fc305',\n",
              " '00454.ca6a81a702d62c23bc184a37a1cdb926',\n",
              " '00103.3fb0c1ebdfc0eb5952bf0f57e635c270',\n",
              " '00100.f18596df33992ee2af3e79f71f092e69',\n",
              " '00723.7d2f1e26ae8cbab862459e33db405be1',\n",
              " '01296.34052422109f131a8b1fb59d1d42f899',\n",
              " '01196.b4567843ec0343475dfcb5da7bd9c41f',\n",
              " '00161.37836bbc77bdab253f914d7a5233badb',\n",
              " '00073.fa47879bac3adc4b716130566ee0a2a6',\n",
              " '00846.ed1959ae9b519ac6b944875b47497731',\n",
              " '01077.526ad4ce12f3ef73a4b4eae0f211e2c9',\n",
              " '00474.c1835a35419f2bbdccbabfd8547faf4a',\n",
              " '00709.59ca382f87c5eacb934430e28cd98d98',\n",
              " '00394.0e95ef1fe71d6bbf6867df86c862d15a',\n",
              " '00051.8b17ce16ace4d5845e2299c0123e1f14',\n",
              " '01059.3bb25dd5704c3e29081ef39c7cb0a200',\n",
              " '01216.e293653cab0c486ba135cf8fbe6700fc',\n",
              " '00226.bd5d6adde04612587537df13d7f81196',\n",
              " '01129.c03bff072108e33b6f5d1c3858c940f4',\n",
              " '00216.c07de35b7e7f659e3c0c071b30053afa',\n",
              " '01250.2bfc033f9ced1c70e480ec75b0094431',\n",
              " '00148.a645e3b8823445737c97057e59ea0d0c',\n",
              " '00061.4b25d456df484b9f7e01c59983591def',\n",
              " '01215.e879c633ccfba3b6dcf761d8ac0764c0',\n",
              " '00268.a9bc047709bc6362328d3b72998956f2',\n",
              " '00102.706dc065aaf3946565c4897163a16a33',\n",
              " '00626.68be744b78b4378b5cbe8eb68f8a76e3',\n",
              " '01340.0b77f53fb084eb948e07dc7ed2ab5c34',\n",
              " '00128.102ef1e6b36b8307faecd1f2d04cdbde',\n",
              " '01351.e960056da1502c90d40d598cdf37f359',\n",
              " '00170.5e4c7668564952d8bfbf106d32fa9e5e',\n",
              " '00295.567c57d64a8f338d16d5047e533a1155',\n",
              " '00015.206d5a5d1d34272ae32fc286788fdf55',\n",
              " '00057.01c83e8ad13d3f438c105ebc31808aa4',\n",
              " '01164.55202a4234914b20004dc7f9264313e5',\n",
              " '00430.d3915a3e7a9cbd8f9a7e6221eb40253d',\n",
              " '00471.df77fa930951f79466c195052ff56816',\n",
              " '00919.0b677a6b8d8bff153989d1708850f985',\n",
              " 'cmds',\n",
              " '00500.87320162ab5b79f67978406cf909c3d1',\n",
              " '01375.b1a9c15e903adbc27bd2b5c033e1d29c',\n",
              " '01330.dafb0dd3006f86f73f42b4e24266277c',\n",
              " '00278.72994f6280bfb4ecaad81592dc31f0d3',\n",
              " '01313.7deec268aedb7c5618e27bd73a803a60',\n",
              " '01001.742869a142437dc82db21228edcaff32',\n",
              " '01301.91269fd2b14a1fa0f183ca60953b99af',\n",
              " '00936.1f06517cffff4360820ff6012b392b93',\n",
              " '01272.ae29c7d7f5acfc747cf55082aa628a40',\n",
              " '00585.0cc56d33bcfde91ab75bf202e4684c4a',\n",
              " '01236.903d52340bf3ed1a328b039bcd94e1c9',\n",
              " '00524.640f4413fd9d75339aba617157a43d5e',\n",
              " '00202.e57a96cc553ecba5064d023695a0f385',\n",
              " '00984.9521bd4c46b37f795efb665266cf5ab5',\n",
              " '01089.b5c513eca6f77a1dcd75d69d5974c583',\n",
              " '01143.b92dc050e0b748b5e7c9f1cf1b469306',\n",
              " '00997.1af0dbebf63194440c102044a04ee752',\n",
              " '00006.3ca1f399ccda5d897fecb8c57669a283',\n",
              " '00308.fc90f8aab51648329b9e705c9021b204',\n",
              " '01161.174f2cb358ca3f08f4308f87ca64842f',\n",
              " '00124.e757f78e3a015f784045f87c81e9ce87',\n",
              " '00558.dcb747a55d9b7d4f9ca6c66717bd36c7',\n",
              " '01208.6e10d44b4339eacb5db69d1afabae907',\n",
              " '00986.d5cdaddf809832f37d3d0ecd2ea781ff',\n",
              " '00510.ce04ead27e498e82285ea6dbb0837c13',\n",
              " '00401.31d8ded049967dc48ebb564288733e81',\n",
              " '00442.0b77138b3a011a8bbaa1f7b915bfee9b',\n",
              " '00265.2b8a59870ad8576be65a7654da7fe1bb',\n",
              " '00356.6420c49ea8ad1c5e4120606f97b60e1e',\n",
              " '01275.9ce1257b70028a741bd7877f0bc2ba0e',\n",
              " '00459.2c2341d0342bfedc94464025126bedc6',\n",
              " '00352.206639789c6ba89977375c62856f20fc',\n",
              " '00437.a88b8673cb52537e09bc37a163c1635f',\n",
              " '00173.6f5baeeaeb9b1c1ac4b9527e948828db',\n",
              " '00297.6278795e285879c8623bf7ec329b966e',\n",
              " '00488.e88c2c87a3b72ab47b6420b61279242e',\n",
              " '00003.590eff932f8704d8b0fcbe69d023b54d',\n",
              " '01338.a67c3827402b4610bd2a6814cd8cd907',\n",
              " '01391.d84700fa88ef00525b05a2d9c64fa654',\n",
              " '00968.d86fe0eb3bc78b724306380b63f82073',\n",
              " '00956.bd15831ffe9661a5395b8ec491a4fed2',\n",
              " '01151.e295c81d698d58f43f17bde22076cbef',\n",
              " '01050.f18a04fd3f7cf3e60483c3420bff5417',\n",
              " '00981.341055ba05d9538a59e3533422bfd212',\n",
              " '00332.2b6d5012de45ae27edbda7f94c54636e',\n",
              " '01258.209beaa19098071457a3f7259d6883dc',\n",
              " '00725.260c7aa4ae8ce594c0c671b2611d313d',\n",
              " '00926.c6a5ef577e62317b785c4511b7f5c94e',\n",
              " '00913.2c4aa5dfdd0ecb0331c674b73f40e924',\n",
              " '00679.a0ad2b887acad77749720b6004a17f13',\n",
              " '00623.f80874598b1a22fbaa5d979d14d8ca2e',\n",
              " '01068.c9e00ffce33545a1d87512a1a854e104',\n",
              " '00672.d6ee6301b06bfa5afedd54a1bdd08abe',\n",
              " '01026.dffc6a0b029914be9fc6ef23570dad14',\n",
              " '00639.d528429f61fab2c81e093851be84a31d',\n",
              " '01281.889130eed8c0fabfe29f7ffe62d1afe1',\n",
              " '00223.b2ab59fb979b4e3d266f15a580d86619',\n",
              " '00250.ae302eda2386979f6ac6bfff9e9f7137',\n",
              " '00833.7af1bc506099884c6171be0d846cc292',\n",
              " '01080.d8ed30c7817d6b4b3b6ce947f31cc8d4',\n",
              " '00504.0a250a54cc14771c55105d9cfdf39151',\n",
              " '00988.464959d4fcdd919a51e6220a909eb41c',\n",
              " '00215.0378888fa9823523e61a6b922a4e3b55',\n",
              " '00694.3aca5f2a3d0d2ccbc47ef868eb051abd',\n",
              " '01237.245ac1766016b756a3ddb3b463cc9645',\n",
              " '01382.37400f7a1f36cd45165c2a72a9ec8baa',\n",
              " '00176.644d65f0ab0d19f706a493bd5c3dc5df',\n",
              " '00874.5a8822c0bc7366b22f3c99c0e6dd058a',\n",
              " '01253.26e421b9623002d636c29f79f68a58fb',\n",
              " '00824.eec96f74d95afedbe574498808d29395',\n",
              " '01327.7d7cb2b319318af27a2981701843f358',\n",
              " '00466.936900f20aa2c6aa724d2f6d6af53b9b',\n",
              " '00785.262ba178488e58bbea695befb45b05e2',\n",
              " '00493.a80f4bf204e9111b0dd1d14bf393b754',\n",
              " '00787.6ac0d6fe5aa9e89ee18e98ed8a556895',\n",
              " '00938.cdac5333fc78f7128fd8f2905fe4b89b',\n",
              " '00327.1f6320c5ad43180ccad57610c646c6a3',\n",
              " '01146.f8a114b8bf65962ec02a1bcc2241e5d7',\n",
              " '01009.546dc7364ebc4365ba70ee9d9618ad8e',\n",
              " '00184.b4c342594f571eeb609a47b313ac35fe',\n",
              " '00290.010f9e1b74276ee0a2414699df272efe',\n",
              " '00204.4cf15f97b8ea08bfafab7d5091b8fbe7',\n",
              " '00324.272b1fb3642d24e21dac949444b21e65',\n",
              " '01130.f286229e3c2eeb5c682204de85d903c0',\n",
              " '00406.3d607f39292bdf8e71094426cc02a90d',\n",
              " '01136.c83cd4b22c068706900cdf339553caff',\n",
              " '01270.f55f31ae8a3b92cdcddf7257aa9616a0',\n",
              " '01187.b47cd7a45a24f56a6908519e1c37e75a',\n",
              " '01096.ccf870cba7e6618b610f8a2f2c2f08f6',\n",
              " '01067.cbfadba14efd2125f98bf8ae03c68f68',\n",
              " '00119.010f7f583440f966e427436c31738466',\n",
              " '00180.751cb63992e172566b3a296d970c425d',\n",
              " '00021.07d9ab534bbfba9020145659008a3a14',\n",
              " '00869.f81e5e18fca8debeb53ec8581e902987',\n",
              " '00230.681e0e97f93d59676937c4223c93da93',\n",
              " '01298.3e410f64d440f9c883243bcc942b0f41',\n",
              " '00367.61bd750eb4ea17d10cc4aaeef1885fcf',\n",
              " '00513.08c05933ceb2092de8a4866b91d6f274',\n",
              " '00704.30306e2e506ca198fe8dea2b3c11346a',\n",
              " '00281.d5147756d766fba6dbc649f786e38bc2',\n",
              " '00158.58aea46256aaaa23787ec2acdcd31073',\n",
              " '00255.f66ad62d19d3e76217eff77eff4eeea2',\n",
              " '00347.fd43a734c2e77abee0ca8c508afce993',\n",
              " '01244.9ef966101737a6fc27d8965def288d70',\n",
              " '01223.0321f73febcffd82fcf12b36cce2c6c9',\n",
              " '00498.7f293b818e2e46d3a8bad44eda672947',\n",
              " '00990.e0282a91be0479aeadc4ee580bf21ded',\n",
              " '00414.583be7dd0ab2492309a3fbd7960e90be',\n",
              " '01243.0676aa0a6a02e5a0373d387b89af0e07',\n",
              " '00252.3b352c8a7266026be4f1c1ba89690cfc',\n",
              " '00996.cf51353ead421aa3c419ad3d42eb9f7f',\n",
              " '00922.06a743f9aa0c1d27703342dac65a308b',\n",
              " '00845.50e08b3f38d440f61b858415e012a9bb',\n",
              " '00901.95250e8c5c190d1b0320b9e6fe0f5a82',\n",
              " '00835.a6e29a3e3680377daea929a8ce0b0814',\n",
              " '00597.77c914c24bd38a4cfa7ef06aae438d17',\n",
              " '00738.10deb784a63c0bdc5e78b019720f3e9f',\n",
              " '01396.e80a10644810bc2ae3c1b58c5fd38dfa',\n",
              " '00586.6ffe1b192d01dc82c33e866ddabd2a79',\n",
              " '00253.bd8e0dd85f0f848be89aadbf6d6364dc',\n",
              " '01155.e8634e51df914973d548076958ed90b2',\n",
              " '00288.e1f7256dd7c447815e6693fd8efea6c9',\n",
              " '01167.2ac57a0189fa2b8713202b84e587b707',\n",
              " '01249.5dc5d720da4495b0606f3a19722ea6b1',\n",
              " '00056.64a6ee24c0b7bf8bdba8340f0a3aafda',\n",
              " '00285.0a23190ebe54452ab48f8fc1e20402f5',\n",
              " '00766.ff1f266127aebe1fd285b9a211f34723',\n",
              " '00495.88a3a957082447d2e6cad8c9cb18b3b7',\n",
              " '00895.d7895e10504f34149655062fe20d5174',\n",
              " '01012.47b3508146cb115f6e00802d03c8df81',\n",
              " '01163.1c25ecdd147c3f4eef84b13fa6061c9b',\n",
              " '01132.3d0e60ced92087634f1433f12810096d',\n",
              " '00192.f2c49e0edfc9d9c861da1e6368cb7d12',\n",
              " '00248.2212008dd1bd6e4d2326d8c6ce81d01a',\n",
              " '00756.b68f9bcfd782a01a2ece132eccdcbbe9',\n",
              " '00228.238a0547cbbd70a024d7d4376707f201',\n",
              " '00441.3b9c3055e08bda4c0f7eea43749e324c',\n",
              " '00836.2de57b8c930cb4970fbc646ed4c857e8',\n",
              " '00218.e921fa1953a3abd17be5099b06444522',\n",
              " '01015.814d23a39e0a68a8706ef9b1ce2c7791',\n",
              " '00007.acefeee792b5298f8fee175f9f65c453',\n",
              " '00225.a4a58f288601a7e965b358c6e7c6741f',\n",
              " '01262.24bce3d7a8a92bc6d970cf80f0d21660',\n",
              " '00483.e583ffb0efd3958cdef2e9f3b043ef0d',\n",
              " '00463.0bc4e08af0529dd773d9f10f922547db',\n",
              " '00181.8f8c7074d957952981b3d7bc188eb1a0',\n",
              " '00734.0c1975b8c2b17fd6c665827706f89eaf',\n",
              " '00843.92ef4b70e051724249f825731dfc456a',\n",
              " '00168.a9dd80bb0934b67fd00b4f0a99966369',\n",
              " '01030.2f9d18088877f028b4ebcb3961e76354',\n",
              " '01003.d15cfb579697f595c4aff7197433cd72',\n",
              " '01260.fae84d2193ed2d65a14e2c8b612fb7fe',\n",
              " '01248.27ec44a84866375481998caed54df8c0',\n",
              " '00654.65f25e01ad743dc13b1aaa366ffc6868',\n",
              " '00122.4a2f67839c81141a1075745a66c907bb',\n",
              " '00472.3c51cf86307bc98c54d856887a81e9ac',\n",
              " '00566.9b3e6f0ed54a232fcf6533c75d5c218e',\n",
              " '00481.b6fbd76bcc24999350ae6a3188f3809f',\n",
              " '00743.7889a6b188891a33c088f3d29d48251a',\n",
              " '00277.feeedd0a9e052b05e350e93ff7889f0a',\n",
              " '00726.26fb8f2aeedad636c461a560247d4f46',\n",
              " '01049.621d66148b023203d9010ee5df12ddd1',\n",
              " '00203.5d5cdf03bd9362584adaf6be372d0ba1',\n",
              " '00590.7a27fe75bf73486c1c1913f87aaddb4d',\n",
              " '00074.f7cfc6a5142e788004e0cff70e3a36c0',\n",
              " '00611.58f9a1db64c83da2bfd3b1acf8d38338',\n",
              " '00123.18a793261cf7719497e17412345945d6',\n",
              " '00410.fb7b31cdd9d053f8b446da7ce89383fa',\n",
              " '01062.c35ba7728139dda6e85342e9e8cb2eaa',\n",
              " '00199.3536ffa9d7e1b912f6fc649d779cfe5d',\n",
              " '00603.c76054a8ff1b75fb722602e567d2e7e1',\n",
              " '00131.faf572e5916abbdb3d6ee9671339e047',\n",
              " '01353.369f79f8f31f3b18bdb5d1006207b52e',\n",
              " '01398.8ca7045aae4184d56e8509dc5ad6d979',\n",
              " '00572.4657e353354321dfd7c39c6a07a90452',\n",
              " '00292.b90f1e0d4436fdbf91d909812648900d',\n",
              " '00187.3fb9a7078bff0530ea52484a32c5d7e0',\n",
              " '00700.e9dbef7f0ce0dadccc9050b5e3a5709b',\n",
              " '00236.a46588c69d43e80c618038b95eff2893',\n",
              " '00830.079ed7d24f78024e023b82417a6fe2ca',\n",
              " '00519.f189e2f1541968e48de6ebd9db23b35d',\n",
              " '00018.336cb9e7b0358594cf002e7bf669eaf5',\n",
              " '00578.c65d716f2fe3db8abc5deb3cbc35029c',\n",
              " '01349.71c7c224e68df0a19c1834065368c89f',\n",
              " '01376.73e738e4cd8121ce3dfb42d190b193c9',\n",
              " '00372.859cab3c4ee323a06adcd41f8c604fa7',\n",
              " '00144.a439c28b51d6b53f4fbf3bf427b55ed2',\n",
              " '00419.ed8fc5e3278d344ba897c8e9614acb38',\n",
              " '01292.3cfdacd938c6a4a7544581399e28e81c',\n",
              " '01331.e35989787f99e9f234da42636eb43f22',\n",
              " '01342.7f89acf56fb4398340a0b07481e3193f',\n",
              " '00727.45ac8c0efbb22514a075b99e1c57422e',\n",
              " '00136.870132877ae18f6129c09da3a4d077af',\n",
              " '01241.0ea43b4457c3a0b85f7ab4d1bb4ac17e',\n",
              " '00660.549ceaa9ca634dcdd5b6b86af193d3f1',\n",
              " '00428.5fe2c974b49315a6fbf9f3b09b47f030',\n",
              " '01319.ec67d39c89f4a5865b730879685f3092',\n",
              " '00421.540f120cafbc8a068fcc7f8a372a37b8',\n",
              " '00818.3939063d91d49a0c8e7d01efb2fb95a1',\n",
              " '00942.657397d701fe92368dd144bec09d7812',\n",
              " '00461.57e0fe5d31215393d7cf4e377e330082',\n",
              " '01293.1073233e92a1fb8808e384cbc0d60e58',\n",
              " '00569.369bb86b7ae4572b2eba48e0b8daf0ea',\n",
              " '00900.a5f6355af8a1891e683898c5b549e565',\n",
              " '00093.f0f5881aff74fafe925b36649298a0aa',\n",
              " '00069.27497d5d2f92837805b67e2bf31dfc71',\n",
              " '00702.ac95bc3f1e8943dd03fc78bebc0925ac',\n",
              " '01165.8c661bf07a1a7a5fe8a9efc2439d17a1',\n",
              " '00736.5bbe6ad663aa598a1b4a6d2d5f3ff0cc',\n",
              " '00140.f690cb156c0b1223e763ab3c0b340c57',\n",
              " '00502.0a4d33a87be5e0ac475c75e1ea9962be',\n",
              " '00778.90e72cda6e62435fc03e4d91bbf78ca9',\n",
              " '00390.ccb6ba541b35f5e9e443a53049cd70d3',\n",
              " '00575.cbefce767b904bb435fd9162d7165e9e',\n",
              " '00599.d6d6a2edd58fa7dd6b18787e9867984b',\n",
              " '01220.e399b9acc45a23ec853a9bb1d2a1a859',\n",
              " '00978.707d7b7ae170aebe3d5b0fd28c55114e',\n",
              " '01271.c74d2888efc2f1897ee890001abf05e7',\n",
              " '00033.53ab3a0f8862eb0c12fa6eb3d04badbb',\n",
              " '01141.9771b6eb9a19ad26816825c9d190831d',\n",
              " '01224.5ec7daa5c1c540ce6be17e1afbef2a86',\n",
              " '00746.f0fce8c4c17e53a0fe837a8c6cfe03c6',\n",
              " '00638.ae5006a001e88e8cd956b7a142e41984',\n",
              " '00444.2657e8ab181a4ba04b6515d5c379b9f0',\n",
              " '00969.636d340655d05418edc2d1cd2ca05b72',\n",
              " '01140.c37701901dbb63bc34e8db544f431557',\n",
              " '00827.99370713a3e1c24d8b74d499040928b3',\n",
              " '00146.058bab11f76dd7ff40c941d6cc36cc3a',\n",
              " '00155.b043f6801a72ada945205709c44c8ac4',\n",
              " '01177.e6db3bae11ac87679c7f241a2c19b4c7',\n",
              " '00773.1ef75674804a6206f957afddcb5ed0c1',\n",
              " '00514.5c15464cb782de5ddab0408af5888805',\n",
              " '00560.dfc4142bdb51d4ac3f9a3460c9254a18',\n",
              " '00648.fa4e260a3fadd4ddb60a9ce8c3d7dd36',\n",
              " '01083.a6b3c50be5abf782b585995d2c11176b',\n",
              " '00118.141d803810acd9d4fc23db103dddfcd9',\n",
              " '00402.3cb789dea6bc3f321cc15730f3048ff2',\n",
              " '01363.85518bca7c7cb9f35e57f3adda762ac9',\n",
              " '00422.bdbc5ccdcc5058dcb4808fbdbaceffeb',\n",
              " '00416.7fa9ccac275fe2d97517554ecde57fbe',\n",
              " '00177.581a22999fd636e541e4e4864baf947f',\n",
              " '00642.f213f657ab630999a8d34c26060d79fc',\n",
              " '00783.a1d194b912e784ca6c4068b14791180f',\n",
              " '01383.a4e83a74006864de20f76d0193908a56',\n",
              " '00036.5b5e714c8d5b1050a392e55c42070f2c',\n",
              " '01093.58b9c5035d2291301ff2d0e9c36b0670',\n",
              " '00929.008a60368b7623f11c7bb95826eb7366',\n",
              " '00370.abd27ca9728627f8f0f83934ea7520d0',\n",
              " '00027.b7b61e4624a29097cf55b578089c6110',\n",
              " '00065.9c8ae6822b427f2dbee5339d561a2888',\n",
              " '00812.275141f8033735b80bdca7c9dcabc8ad',\n",
              " '00174.94a8f3a8826ff937c38640422784ce86',\n",
              " '00400.9360c6d3f34caf75a4c5439852153b71',\n",
              " '01355.a47c042a6e16456c5b49c18d5b3868cb',\n",
              " '00713.8d1b1c5afc226377ec951564ad402b9c',\n",
              " '00600.d113e8e0ac2d8d42f500f4faef61061b',\n",
              " '00971.6d8acd89e1b2e699acc6a3443c6d2d6d',\n",
              " '00592.8da31ade2e259569f9741cca3d98d952',\n",
              " '01081.1107d4183b8f5e41d7a31ac4ef4435ca',\n",
              " '01137.7c5ed50fcc83a610928b75e158ca5554',\n",
              " '00029.cc0c62b49c1df0ad08ae49a7e1904531',\n",
              " '00019.86ce6f6c2e9f4ae0415860fecdf055db',\n",
              " '01063.e0318e91412291f881f315287050abe4',\n",
              " '01057.b3913dec24f1b61e2ff45e30cdbb8fcd',\n",
              " '00758.13f37fcfbc515a7f7de269852fb7b842',\n",
              " '00227.a2dc608fa0cf81c35ea9f658b24a9004',\n",
              " '00092.ba043c4ba04c2d06714e43caa42cc078',\n",
              " '00879.ef1461ca38091f6d494c58d09b0627f0',\n",
              " '00353.8d9f21930310041d8a0e17b0494e3a4a',\n",
              " '00962.452e4bd0724bf1139c9bc4eb9ec0fe43',\n",
              " '00034.cac95512308c52cfba33258e46feff97',\n",
              " '00360.814557087d32334a92357de3b50ee814',\n",
              " '00109.17824b03f1b16c199abc7f4d7c35e4eb',\n",
              " '01227.04a4f94c7a73b29cb56bf38c7d526116',\n",
              " '01255.e04eae4539f81463a930dfe44ebd6af8',\n",
              " '01082.9f69cd26a420837850841e71d6147a57',\n",
              " '01335.ca70ab7f2d1accef8b3cf646e3004ef8',\n",
              " '00152.a9f16de7f087215259a15322961bf9c0',\n",
              " '00857.fa8ec422479af911a9a9f69c39b7a96f',\n",
              " '00598.55751466eb0cbc307da570a603daa3d6',\n",
              " '00162.b5ae5521352c9bba7bf635c1766d4a75',\n",
              " '00114.68b089e3ca8128bb8d11f4f8bc592764',\n",
              " '01214.973b4598b630a989967ff69b19f95d4a',\n",
              " '01115.bd63b2430d4bebf2a49a6caef0ee3974',\n",
              " '00928.eb16be370343cac1476fcde9bf0a1f32',\n",
              " '00954.f92e3e1383d3882a4287fb8d6a1b1eb0',\n",
              " '00544.b40f8f2923fe96b02cd7c46fef0adea0',\n",
              " '01297.6899dd73603e94dcefaba9970c3cfb69',\n",
              " '00657.7e326e955029c898a6ddf27e3c79cdf0',\n",
              " '01232.2c1fbf4d9cb31dd039c1bbb078225b5a',\n",
              " '01005.57464e29367579f95dd487c9b15eb196',\n",
              " '01388.dba0966da5886e99fab13981da6c3834',\n",
              " '00790.365798c56fbfc98b2c8e4cbce0417999',\n",
              " '00374.b174d1e94449f519f3ceba87e7cefea7',\n",
              " '01302.6e23012bc215fef128943c14c7d2c83f',\n",
              " '00530.7495e8bd02e1dccfea08502d0e406e5d',\n",
              " '00342.847c675d7a39e5e6ecce8387350790ae',\n",
              " '00810.bceaa748f9cee012c466212d8a608acf',\n",
              " '00886.9bd2063c3d984a66958a6195ffb97849',\n",
              " '00871.48d32184662134852f20566c47c217f2',\n",
              " '00028.60393e49c90f750226bee6381eb3e69d',\n",
              " '00809.b657c1ead5a2b2307e3a887b19b9ce91',\n",
              " '00340.582105f82cc7d1d35e09aacc413853c1',\n",
              " '00755.4280e5603d66801661cbd0fe0b33eec8',\n",
              " '01235.2e8191ab7ddffa2290e04f9ce0422041',\n",
              " '00379.b2ab58d60315cdc423cd8640466092ed',\n",
              " '01052.223738f00502f5dd7f86dd559af8f795',\n",
              " '00501.32679091b0520132ad888ef3b134ce48',\n",
              " '01360.5bf908ff3e674f31061afcb8a6c17a8d',\n",
              " '00256.ea7bc226396ae0cc08004265b5c2eb02',\n",
              " '00234.64c94421011e896adab852386cd314d8',\n",
              " '00016.4fb07c8dff1a5a2b4889dc5024c55023',\n",
              " '00245.9d608575062cc3d6368078006d20f61b',\n",
              " '00831.630c53b642a54592bd4fb097ba4e88b0',\n",
              " '01193.7c4b9a0e900fdb7cafb86c1131f79a48',\n",
              " '01116.3aab7bf5532577432137e263d3674a9a',\n",
              " '01148.895a24adac0c121c15735c34fed5c7c4',\n",
              " '00296.85aa16f800e0aaf8755cdf23d7e035ff',\n",
              " '00980.39382e3a94065f3f8c709e874d8f3827',\n",
              " '00696.91e6adc3241e8ea45f9d9670ad74df0e',\n",
              " '00266.12e00174bc1346952a8ba2c430e48bf6',\n",
              " '01135.0a652f28eb7e06830ca75be5d2f41eaa',\n",
              " '01343.97e31a95126f0c6dc249a8e51489af10',\n",
              " '00494.6d13d2217c5cc00c26b72d97c7fe6014',\n",
              " '00872.f50d5fd1a37e535e0a0adb223ef40f36',\n",
              " '00087.c6bf843edd1028fd09bb46d88bf97699',\n",
              " '00958.c624269d8005dce3d754defab3a3d691',\n",
              " '00595.11ff52fbcc4dfc5ddd499c27746b2c8b',\n",
              " '00243.2fa7ea5c308d2d572c7e8efc679bb6a9',\n",
              " '00443.70c948096c848777e165daacad17ce78',\n",
              " '00534.d17efd4b5f7baa6cf83684fef7cee08a',\n",
              " '00625.e5b3f8bf55addb5884293af0826a7b33',\n",
              " '01201.471d379a63806032b2c3978838b83e61',\n",
              " '01123.91470734d764b1bdfb671a7d3b0d7ffa',\n",
              " '00254.9810c685fa8fd2953b0c07ba7900605f',\n",
              " '00737.af5f503fe444ae773bfeb4652d122349',\n",
              " '00001.317e78fa8ee2f54cd4890fdc09ba8176',\n",
              " '00622.7c8edc50203f6a2dc87e97e9eefddce7',\n",
              " '00619.8b327d9ed6741fb05ac4a180a5f776c6',\n",
              " '00086.5ddcb4859b292c984d1db6aeade5ac04',\n",
              " '00906.bd0b0986deaf717b1f1a689fd950b97c',\n",
              " '00054.58b5d10599e5e7c98ce1498f2ba3e42c',\n",
              " '00058.00878d47d9a07c1c6f9c5a8593db7f55',\n",
              " '01105.2582a4afba9b0b06bed5d48e3e8b29df',\n",
              " '00822.582f541f39bb9e92cb1262875d3a9fca',\n",
              " '00339.5982235f90972c2cf5ecaaf775dace46',\n",
              " '01245.ce437204a2dfc9109003491e7812fc7f',\n",
              " '00856.fae2faa8ad9dffc157f5f17e5be0f057',\n",
              " '00283.8654c24a39f2557b8d4b1aa35b95482d',\n",
              " '00104.67ea4a37ac02d37f4baa7631ba17a824',\n",
              " '00017.6430f3b8dedf51ba3c3fcb9304e722e7',\n",
              " '00143.95e60a4160434f341761931c65844a38',\n",
              " '00801.00fc164b0d3eabfded6c0dc24050dbb1',\n",
              " '01307.270e0fd3d0f0a14a592fcc47f3696e05',\n",
              " '01189.5593d25cf7b731b1c9f3e708cd05c96b',\n",
              " '01394.a76cc347fac514441bef43e7a599fb55',\n",
              " '00533.4bf72df6acf3c08c213584469484b0ed',\n",
              " '01387.84a80f5699b026b15455e803a471b88e',\n",
              " '00212.87d0c89c4f341d1580908678bf916213',\n",
              " '00889.272969152a8ce2d6ece155571e862683',\n",
              " '01032.99fb105a98e0192bfc987bd3c31f6672',\n",
              " '01305.2456653e0fbd780a77a3d25229109432',\n",
              " '00665.86f20f73c5ac6205b5b79f3877638ee5',\n",
              " '01006.51548cae04a891d900aa5be21c121548',\n",
              " '00634.c37efb809c3c54c2d9661063e7b72f5b',\n",
              " '00543.e69bd0a0effd4a12537fb358d79ea337',\n",
              " '01060.d72413ea3af9e1c5530a3570e0bb517e',\n",
              " '01190.04029d5cadc5b15d91cfed47a7a2e94d',\n",
              " '01393.e7d7a58f2c561c6f71fe95c64a7f5f35',\n",
              " '01267.6e9de9ba20f59c26028ebdb4550685fb',\n",
              " '01219.db22b96619e848e2c9825ebb710897fe',\n",
              " '00776.22f3f3942932c3d3b6e254bcab9673d1',\n",
              " '01195.2e0668d1365c631aa09d21c813ce013f',\n",
              " '00609.4dfe7912017772587dc62fecc3cf6553',\n",
              " '01079.9eb95fd88f3d9d551f8c64359470ae7e',\n",
              " '00004.bdcc075fa4beb5157b5dd6cd41d8887b',\n",
              " '00753.c3032ff8329006ec6b39b6c821185b1c',\n",
              " '01107.5b3ad5e88347b08967ec627b815f2fc3',\n",
              " '00508.a5b222ad6078c7242f6c73333e009d98',\n",
              " '00806.0595ba2c9bfae214645880fe39e17f4e',\n",
              " '01178.3a000edf71d5d6d61c31e94e12cbd21e',\n",
              " '01354.942feb599d3e244a238c28c9028d97fa',\n",
              " '00386.c5a6044254345320c345761dadbea419',\n",
              " '01239.5b4a6a500921ae2a53da84bc99d91414',\n",
              " '00108.813fc6306b631b5c58ecfc26caf3a8dc',\n",
              " '00376.8d9a34535bac5fbccdbb8ea5392c82d8',\n",
              " '01118.db60fc08987ac4bdaf96ab4e1c83eafe',\n",
              " '01211.e9c2c3b1d544e8618d6f87c1871021e9',\n",
              " '00691.3fc62f976ac2502a426d132d165dde1c',\n",
              " '01278.bdafbd6059108bbd9973fe8ea0aee62e',\n",
              " '00635.f144125beb9621e7a73d1a2eadce7e06',\n",
              " '00749.9887b1d7cb21083c777b0623cfdb02af',\n",
              " '00881.ec61388b6f9f09b285950e2f11aec158',\n",
              " '00509.385c788f39e46a86be4c6af8679a0c80',\n",
              " '00055.0b668beca14ab545bd39f17dbe20775c',\n",
              " '00214.39bd955c9db013255c326dbcbb4f2f86',\n",
              " '00852.82d02cfb0bf0d41ac2884dcf11efd224',\n",
              " '00834.34db0196aab30fd0883426467c18ed5c',\n",
              " '00052.44ec0206d8bc46f371f73d15709fdeea',\n",
              " '01289.2f9168490b8c45e76af4935b4827f702',\n",
              " '00113.0449844c534e41730bb7a0ab513580e9',\n",
              " '01095.520dcad6e0ebb4d30222292f51ee76ab',\n",
              " '01318.5ceb2b7a8b5780b006500266f5a508ca',\n",
              " '00169.86268e75abd1bd4bda4d6c129681df34',\n",
              " '01144.94d2d4f5dfefab34c1370aec38d470eb',\n",
              " '00487.edd96ac74c081d65c2106cf51daab9d7',\n",
              " '00275.87c74dc27e397ccd3b2b581bbefef515',\n",
              " '00320.a4e760741d537aef50c4c0b950329225',\n",
              " '00079.7a1b9cd54acec8774ef833df17206630',\n",
              " '00882.28bbc4ccfb80f32d4fe7df3ab77afb41',\n",
              " '00699.46c52d8e3b9db13ea2e9816f1c919961',\n",
              " '00964.59eef46bf356dffc1102aba1dc34f4ca',\n",
              " '00010.2558d935f6439cb40d3acb8b8569aa9b',\n",
              " '00993.32d00ccd0a831830838667fed1371d5f',\n",
              " '00979.1ddb1d789492c2b6d6a5f1257d927088',\n",
              " '00465.81b738fc646c03b1db38a456cd087ad7',\n",
              " '01308.c46f1215ccd8cedf162e0cf308b94dcd',\n",
              " '00584.0f2dbef1c4238beb69443e0273484d76',\n",
              " '00754.9922dfbaee98abc6e1a3a00909a8d24e',\n",
              " '01266.78f4e45d9e8699babb2e38f04d4401a5',\n",
              " '00423.41a02b6bb464b0bd04ac8a40e6001c3e',\n",
              " '00667.6bf743b1b5bdfe9340d438c0661e4bff',\n",
              " '00408.78e871a38b048989b9949716e3fc7575',\n",
              " '00111.029924c0533dcbc837512cce0792a18b',\n",
              " '00551.26fe48f617edc23fa5053460d6bc7196',\n",
              " '00094.c3a37a3a866ce9583f51293a5e7b6f4e',\n",
              " '00391.6086519216f6de15fecaeffdb51ff3a7',\n",
              " '01202.4ec06d178a19d7972daf54bc3ba958ff',\n",
              " '01218.4bb5c5746d9f19d8551437c242bfd79e',\n",
              " '00705.df125edb37f19c87784942c7b2b164a1',\n",
              " '00640.564b03520087bb4595384ae024ceb929',\n",
              " '01384.e23f94030a4393f0825eacd9de99eb31',\n",
              " '00662.58b714e07ae476b3d66fc7ff828a066e',\n",
              " '00276.a8792b1d4591c269b9234f3a39f846d8',\n",
              " '01395.cb33d1d72f42e4ab9268729917bf428b',\n",
              " '00448.65d06c45ea553e3fddf51645ae6b07f0',\n",
              " '00399.b5a16f11e0f6bc8898caef8d9ba3e9a8',\n",
              " '00274.192bd3848a65302344dff2d7c0d3f08a',\n",
              " '00525.979fd0c4cc9c0f2495c564c5501a46ed',\n",
              " '00095.bee28d9bf506043611e140c673fe41f4',\n",
              " '01359.deafa1d42658c6624c6809a446b7f369',\n",
              " '00522.3c781aa53f7de37cf33e2205faac7143',\n",
              " '01325.cf45b154c74e16a83def9f17383b5756',\n",
              " '00576.0debec20687a7f7f2b58995db7604023',\n",
              " '00616.1e86f2d3478f10a3a413844bba74f450',\n",
              " '00664.c4f198903588cdc4af385772bb580d90',\n",
              " '00652.b8c5d053737017caa4c2d29c4e690573',\n",
              " '00242.745749df8cd0da174fd64afc55db4222',\n",
              " '01102.823fb9065f0dadccb76633810487a19c',\n",
              " '00690.5dd358321ab2f5139ccf636223251d1f',\n",
              " '00201.e74734c7cd89b7c55989d585f72b358a',\n",
              " '00921.548fb6dd2244c2fe87079df9652ddc2c',\n",
              " '00950.e81e3e0c71ce03c260550662a5e740c3',\n",
              " '00462.d0ca75a85184ca9843d1dffdc8c98855',\n",
              " '00049.83a0ff17486ed3866aeed9f45f5b3389',\n",
              " '00861.e8b94fc9514d2d2cbb541b01e2dda726',\n",
              " '00151.6abbf42bc1bfb6c36b749372da0cffae',\n",
              " '00318.8487006b2a3599ba69edefe8b9cc98d5',\n",
              " '00870.ecbb85c7b91446c971762de0b9735b4d',\n",
              " '00293.2503973d5b437aa173b6dd97e6f14202',\n",
              " '01345.436954c32bbf82773e33853ac26ef881',\n",
              " '00091.7b4331237cddd30e9fa27b99af25bf3c',\n",
              " '00343.c84d94ad804925c271bb15b979e11dc7',\n",
              " '00902.5cf0d5b3c8c28418fd5aac308db88a47',\n",
              " '00953.906b4905eb02cfb9a093162f3c143252',\n",
              " '01265.891c503096bc7f8f3345a40e82f1bf5a',\n",
              " '00741.00c61b5577b6fa232434c2ae62d52394',\n",
              " '00338.5f65cc2aed42a1472d2c279f925da35a',\n",
              " '00117.9f0ba9c35b1fe59307e32b7c2c0d4e61',\n",
              " '00612.cd362b97ee34d41e72a66ed5199dd62e',\n",
              " '00931.7b2a622b02577c92587db22228e6e180',\n",
              " '01011.d4812088cad8553fb214dab8003add9b',\n",
              " '00445.a5edbd936b830407d1a56b31ff3b82c0',\n",
              " '01031.f8f0ee32c41a34cb5e4744d18d3ed76e',\n",
              " '00805.af972b92b6ba79eb4d44ff76835ebd89',\n",
              " '00840.819e7f38c3eced79f5e956fd95103957',\n",
              " '00436.9fc1d953c6a282c5b66e4ed1cf1b866f',\n",
              " '00721.09d243c9c4da88c5f517003d26196aaa',\n",
              " '00832.0d3ac1ac07d86394e068a3b84782ca4c',\n",
              " '00393.85c9cd10122736d443e69db6fce3ad3f',\n",
              " '00179.ef2f7cf60806a96b59f4477b025580ee',\n",
              " '00264.8fae38cbbed6a43b40e83aa8496018e4',\n",
              " '00193.d68a324fdbe164f166b58e7852903065',\n",
              " '00315.81905f8867f52179286a6a5bdd1483fa',\n",
              " '00031.e50cc5af8bd1131521b551713370a4b1',\n",
              " '00853.ee1fe2f2d16e8b27be79a670b8597252',\n",
              " '00206.434bca9a9918edbdb04b93f6618adf90',\n",
              " '01020.291c3b0685eedf6178cc323bb8e2ce55',\n",
              " '00899.957a4f3be27468470183f978db53c753',\n",
              " '00863.21d7abedcd9baef5741247adc3b50717',\n",
              " '00629.5feadfcb7530c08a54c98178600b2f70',\n",
              " '00539.6e6f7b032b644f9b1355f46d20944350',\n",
              " '00933.751d91a92c5f2a40baf68615e49b3fc2',\n",
              " '00618.3407355607b3c336ddee20b1435abf01',\n",
              " '00960.ae114c0b717c866b821efe032780a8e5',\n",
              " '00317.902b19a36e88cd3ad096e736ff8c81a5',\n",
              " '00145.b6788a48c1eace0b7c34ff7de32766f6',\n",
              " '01323.043a9a503f711ebb76897fa1c352d7cd',\n",
              " '00429.8f4c7360f2629f5017e7a485e74b3862',\n",
              " '00157.eab255ce291e88fbee46f3f0c564ddf3',\n",
              " '00732.bc344aaabb0aae7f3e1600f2d72c2232',\n",
              " '01058.c5bf6182a887f342973383823dd22d0c',\n",
              " '00311.176626eb0ec0de8f451a079083104975',\n",
              " '00814.6b37fa2239e8c84e2237c4b156e16d81',\n",
              " '00008.ccf927a6aec028f5472ca7b9db9eee20',\n",
              " '00918.5674181d00a5130b030a6621ccec0819',\n",
              " '01018.3954fb1ddf16896826a0c03270587195',\n",
              " '00577.0b1933615cd59d8348c899158d25f252',\n",
              " '01179.6ee962bd413cb11865cd06c4be725c5e',\n",
              " '00676.db7b2b22e127c1a69e369bc62f7fcedb',\n",
              " '00912.8432b3cd988d1ee656321730ce7ca056',\n",
              " '01092.7a97a1db89c8b78df9cb59aa0d0b1fb4',\n",
              " '00763.868a503063713b62fd5325513ba29761',\n",
              " '00712.8c3eca8af0dc686116aa7ea07fe3fa8f',\n",
              " '00457.f4325a4aa30dce61bf6c442b887733dd',\n",
              " '00456.c680a0c7d8d8d91bf3fb9f77ce6541b0',\n",
              " '01348.0ed90bb4a1ba1ea2309ffdbbce093753',\n",
              " '00821.b64c27e913e301f038ebfaa433f16f35',\n",
              " '01242.3743099b115c6a8a273d8eca34a9c738',\n",
              " '00930.4e807b43e671cf853ff61ec4bef6233d',\n",
              " '00877.98d4bfaa6f6c0a303d80544b39d7dc66',\n",
              " '00377.8568faed5f5f8cd3fb0956786da98a1a',\n",
              " '00231.8c72952de376293bc38d30834c0bb580',\n",
              " '00554.c325ab7400fb7e3f053ed0cac4ed7545',\n",
              " '00107.49ebea517b7fe4f1bdf574dc3a125a70',\n",
              " '00080.2dda9e4297c6b66bff478c9d2d3756f1',\n",
              " '01304.114140cd4c51e9795559b974964aa043',\n",
              " '00687.52860b94e6aec19d0286673d705facfe',\n",
              " '00477.3691f298683e5b8687bc05a891512864',\n",
              " '00893.89d5fc38f24e7e2241888c19ec260994',\n",
              " '00381.004cefb51e415fe5c45a3a97091bf978',\n",
              " '01119.343c5318a6ef39de4aea0f081009f391',\n",
              " '00681.7a1b4ce11890cd701aaa16b22fc9bb38',\n",
              " '00517.08bde5f35a9480cf76111e2e3ed57cca',\n",
              " '00238.1bc0944812aa14bc789ff565710dc0b5',\n",
              " '00358.ccfcaa5984dc5db979ba41e0fcee87c3',\n",
              " '00090.c82f6c8ce0db12e42a24fb2808974628',\n",
              " '00798.f4f637b8f59ad0e9f154f137b64dd5bf',\n",
              " '00728.6337ac1dd7bf9fa481c30c7cd01b496c',\n",
              " '00923.5b3a8bf0da33c8902281667d57657cb3',\n",
              " '00941.3ad67a2e6c3bc19d2187dd5a98e05c9d',\n",
              " '00976.82ecfa404e2e597e113dc0278c5861c2',\n",
              " '00303.7d749e4a46ceb169ea1af5b9e5ab39a9',\n",
              " '00190.ee2ea200e7efa602221c6492f9d9d8c0',\n",
              " '00568.9099cfcce869f4ecf337fc666f04c11d',\n",
              " '00574.66c2cbfe0151a4a658cec4e67d6cab14',\n",
              " '00447.32e588c3a1d8888d737f360f825713b8',\n",
              " '00674.e67bea8d6a30cd45e1efc5bc5dbf8b57',\n",
              " '00475.3d497c7d96c51986316db566756ff35a',\n",
              " '00526.9a55d84e77b13b309a15ccce04901f94',\n",
              " '01228.620009080894d11703ee91367628d633',\n",
              " '00602.8b839b13833d7ca3abd6f6179ccc0286',\n",
              " '01399.2319643317e2c5193d574e40a71809c2',\n",
              " '01100.3db9aa127f49e790a5f2765a8f9724f2',\n",
              " '01274.6eb8dc0890717ae45385f0393024c30e',\n",
              " '00200.2fcabc2b58baa0ebc051e3ea3dfafd8f',\n",
              " '01117.c018f3f0f9df7fe31cce608189589fd6',\n",
              " '01316.80287bffff0da77d7b22a538aefdbd01',\n",
              " '00816.a4d225bcdd61ba45407b9617397c82c0',\n",
              " '00096.39bffb55f064f907234c6b3d82fc3b4c',\n",
              " '00405.39099b2d9fc7da44f0bd7c5d68c06ca6',\n",
              " '00864.26b74488b46463e16a5fa0f521786a48',\n",
              " '01076.7f524e1d3f1523e22d754ce5d4a27ae6',\n",
              " '00646.c04903867557fb7a1fefb25c08cdc112',\n",
              " '01008.5e932696d8f33950af53eb9461a014a2',\n",
              " '00319.2702ee4100f722328afc52a1a6f1dc26',\n",
              " '00385.2017c0f15243b44ef7d52ca0a5f1ecaa',\n",
              " '00129.21a35c2fe21ec4c85d22d2eb5b9f9584',\n",
              " '00066.af6bf70ea68b499585a72bdd7d6dd931',\n",
              " '00847.66519123491302ba0e634d5c69644e3d',\n",
              " '01027.e7f8a2bbbe9c2dd13e142c49cc87a6c9',\n",
              " '01197.f88c038612948f3fa023ac83db2e2ce5',\n",
              " '00994.228b5746d5f0e44e436fbc0203b3c67a',\n",
              " '00213.b85553a858843eabb7752c6d15aaba5a',\n",
              " '00384.ffe5f36fc3c40673d4313db5e579e33d',\n",
              " '01377.17adb34fc692245ce301d3db0a3e80c8',\n",
              " '00468.fb2222cc49228bd3dac5481e670f208f',\n",
              " '01400.b444b69845db2fa0a4693ca04e6ac5c5',\n",
              " '01133.facfc10e99d36c8da8e62f27aa065aa2',\n",
              " '00722.1ec5e1f05520ad5119de960f77f965d1',\n",
              " '00186.614733215984b78299813313394a4ed3',\n",
              " '01369.8ea24235c6c50337d9dcd234e61a5132',\n",
              " '00951.f7044a1b178dc3dcff44932f840b8805',\n",
              " '01198.da6821edae608ba753c85e1a7436219b',\n",
              " '00099.328fbebf5170afdd863e431d90ea90f5',\n",
              " '00294.497c7a26968a921c6345a525a2c87496',\n",
              " '01290.cc97aad0960efa7c8b76464b39d54bc9',\n",
              " '01025.936514974d8ee8794cf80e3effea92c7',\n",
              " '01206.b769233047fc696cc02ece9629190b42',\n",
              " '00280.3432009813aa8a8683c72ad31ce7e0e0',\n",
              " '00842.bd26298437dec2f1d09fd757afbcb13f',\n",
              " '00012.cb9c9f2a25196f5b16512338625a85b4',\n",
              " '01101.6be2b8888ba7eda6f05de43c4c2cf152',\n",
              " '00077.6e13224e39fae4b94bcbe0f5ae9f4939',\n",
              " '00653.dcb006e0c0aaa7aa3e5bd7cb3d444f23',\n",
              " '00750.dfc392478300e11189d61d29bed9cecc',\n",
              " '00970.4166b8fab10bbf38aa782c311a70ee6b',\n",
              " '01066.478a604e348bea75b5eaaf3ef47ab526',\n",
              " '01311.43bfe86df65d53c5f7ca2365dc12582b',\n",
              " '00904.8f93ecb6172ee1feba7b4248c48b9ef5',\n",
              " '00064.839dfb3973ed439e19c1ca77cffdab3d',\n",
              " '01061.6200efa97d5fecf255e3849dde7a3701',\n",
              " '00952.1a3c371c56be9de3bfb258b93af71649',\n",
              " '00171.8d972e393ba7c05bfcbf55b3591ce5f3',\n",
              " '00683.41038a20d4763e8042a811a03612bae4',\n",
              " '01282.9ae018dd0cf3c1f3345eb44074fd5635',\n",
              " '01157.0b96d63f8b171b5b5f8a872029371480',\n",
              " '01329.75ca6f174da63761de16480f22089dae',\n",
              " '01120.853b87a34ab28efd22d9851702b2f9c5',\n",
              " '00782.1a0cff70694be0ab6f02dbee8b5b482e',\n",
              " '01156.5a3a6bdccf5df42348f22cada73a1b12',\n",
              " '00196.2e07e36c1285ba9187f8168c77d813f7',\n",
              " '01097.98d732b93866d13b0c13589ae2acc383',\n",
              " '00451.bbff6de62f0340d64a044870dbedafba',\n",
              " '00582.2db3b12f1cbf87ef3a64d26c35561a5b',\n",
              " '01149.9d2ea1122caa150f5c5c98ac98fd9408',\n",
              " '01210.3315bbc34ab0c51f53ee13e0dc6ccaec',\n",
              " '01247.f8e666a378e596a26a6947268a711c97',\n",
              " '00511.7a9009733666ca7ab0325e44e17bf584',\n",
              " '01339.d94a16532a6f42497266dcc327a40163',\n",
              " '00316.6127940652124130611907ee0c20ab5e',\n",
              " '00425.529f44cda59588d37959083c93a79764',\n",
              " '00637.29a22c81a2a36a70c4a9d9ec2c1a2844',\n",
              " '00644.0f0a6c387d64887571426d7e28367947',\n",
              " '00708.89f1f9108884517148fdbd744e18ec1e',\n",
              " '00838.a9f6a5bc71c83bd73764f3945b5b9074',\n",
              " '01111.75bdbd4d859574b9e095f9f7b81ed106',\n",
              " '00643.d177c04238b4299813b7d8cca9fb2f18',\n",
              " '00729.b4b709ee7cb85908bdec0b050a11e518',\n",
              " '01212.216774fff566f005d1ef404eda7925e2',\n",
              " '01162.560591cd20305a373803c3e291e910a5',\n",
              " '01230.0589bade8df0c343a49c6712f62dfca0',\n",
              " '00987.8484b70619c4be1cc4afed570490de26',\n",
              " '00545.296b31ed5391f5e3674c734171643f45',\n",
              " '01207.c24e5ee957e060ad511b5d2b875ff222',\n",
              " '00747.801e88bae96047fb00593129ad02fdca',\n",
              " '00589.0dd634d12e5f4538e6fe74841ee0b603',\n",
              " '00409.1faf0d6f87e8b70f0bb05b9040d56fca',\n",
              " '00556.098b57f5108ba34d21825f176e492786',\n",
              " '01054.3b393992b2d9b3c2209719e6ac83da11',\n",
              " '00486.7f5cde6ad9f34dcbe56a1fd73138b351',\n",
              " '01341.62703c6047c508d1d84bde0b7653b556',\n",
              " '00009.1e1a8cb4b57532ab38aa23287523659d',\n",
              " '00607.b5726a2ac74956ab9af0901379cdca5c',\n",
              " '01104.ec267abf01fe81c42dc90dfd16c930bc',\n",
              " '01291.4fee8a2f5fb6dce4e775b054282b6a71',\n",
              " '00349.742d50a3bcbd3a3a60a0bd42cc2b97be',\n",
              " '00383.14f8e467cb84b977c33f422d7d1691e6',\n",
              " '00684.ac796b7588e9ca61a66ccbca7a90a796',\n",
              " '01257.f5908ef0550cdf91bd6ae55120ecb5ce',\n",
              " '00512.8a8d03da14819f83a8936f224cd9c9cc',\n",
              " '00194.91b4c441362e802a64154349c6451b7c',\n",
              " '01268.626ef5e5fa30314816e0f049ea03bd9f',\n",
              " '00791.68d57323ce71a6f706248a709363e9a8',\n",
              " '00596.8be778a774ce76c30a7a42a07979bdbe',\n",
              " '01386.9398d616dfc3d67fb10e95d911768b39',\n",
              " '00270.1ee4eb635731c5a022fb060bc8cd26e0',\n",
              " '00765.cfd85d27a812054ddd5ee1fc7d881557',\n",
              " '00897.b95ab214fa940540786f7bb4284b275d',\n",
              " '00063.98dc120045d9b6c675c286524bf893ba',\n",
              " '00540.d66cdfb53617f2192367e7f327a018c7',\n",
              " '01231.2a56f1f52d4da9f83870deb4b7e68acb',\n",
              " '01370.38a1c6fbbad5804a9978112005535de1',\n",
              " '01299.0eab794ad20a8b32dfa3d6e3fedc1b31',\n",
              " '00777.284d3dc66b4f1bdedb5a5eba41d18d14',\n",
              " ...]"
            ]
          },
          "metadata": {
            "tags": []
          },
          "execution_count": 59
        }
      ]
    },
    {
      "cell_type": "code",
      "metadata": {
        "colab": {
          "base_uri": "https://localhost:8080/"
        },
        "id": "0tXS_yP8AkVi",
        "outputId": "11d465c1-0ad5-44f4-e93c-fef681ee86ab"
      },
      "source": [
        "len(os.listdir(spam_dir))"
      ],
      "execution_count": null,
      "outputs": [
        {
          "output_type": "execute_result",
          "data": {
            "text/plain": [
              "1397"
            ]
          },
          "metadata": {
            "tags": []
          },
          "execution_count": 60
        }
      ]
    },
    {
      "cell_type": "code",
      "metadata": {
        "colab": {
          "base_uri": "https://localhost:8080/"
        },
        "id": "vVVHAs1jAl4p",
        "outputId": "dfade732-0a35-4843-ca38-a6288310ac42"
      },
      "source": [
        "len(os.listdir(ham_dir))"
      ],
      "execution_count": null,
      "outputs": [
        {
          "output_type": "execute_result",
          "data": {
            "text/plain": [
              "1401"
            ]
          },
          "metadata": {
            "tags": []
          },
          "execution_count": 61
        }
      ]
    },
    {
      "cell_type": "markdown",
      "metadata": {
        "id": "883Quchuxe9s"
      },
      "source": [
        "SAMPLE CHECK"
      ]
    },
    {
      "cell_type": "code",
      "metadata": {
        "colab": {
          "base_uri": "https://localhost:8080/"
        },
        "id": "tK9O5G9tkl69",
        "outputId": "f1cd6e93-bf59-4c9f-b362-fe29968e6178"
      },
      "source": [
        "sample_file = os.path.join(spam_dir, '00451.bbff6de62f0340d64a044870dbedafba')\r\n",
        "with open(sample_file) as f:\r\n",
        "  print(f.read())"
      ],
      "execution_count": null,
      "outputs": [
        {
          "output_type": "stream",
          "text": [
            "From hgh4616@eudoramail.com  Mon Jun 24 17:06:34 2002\n",
            "Return-Path: hgh4616@eudoramail.com\n",
            "Delivery-Date: Sat May 25 12:46:23 2002\n",
            "Received: from mandark.labs.netnoteinc.com ([213.105.180.140]) by\n",
            "    dogma.slashnull.org (8.11.6/8.11.6) with ESMTP id g4PBkKe29214 for\n",
            "    <jm@jmason.org>; Sat, 25 May 2002 12:46:21 +0100\n",
            "Received: from mail.pas2.ne.jp ([211.123.25.250]) by\n",
            "    mandark.labs.netnoteinc.com (8.11.2/8.11.2) with SMTP id g4PBkH712575 for\n",
            "    <jm@netnoteinc.com>; Sat, 25 May 2002 12:46:18 +0100\n",
            "Message-Id: <200205251146.g4PBkH712575@mandark.labs.netnoteinc.com>\n",
            "Received: (qmail 30644 invoked from network); 25 May 2002 20:31:12 +0900\n",
            "Received: from localhost (HELO smtp0732.mail.yahoo.com) (127.0.0.1) by\n",
            "    localhost with SMTP; 25 May 2002 20:31:12 +0900\n",
            "Date: Sat, 25 May 2002 19:32:23 +0800\n",
            "From: \"Tim Thompson\"<hgh4616@eudoramail.com>\n",
            "X-Priority: 3\n",
            "To: yyyy@netnoteinc.com\n",
            "Cc: yyyy@nlgi.demon.co.uk, yyyy@normanrockwellvt.com, yyyy@ns.sol.net,\n",
            "    jm@onstott.com\n",
            "Subject: yyyy,Do You Know the HGH Differences ?\n",
            "MIME-Version: 1.0\n",
            "X-Keywords: \n",
            "Content-Type: text/html; charset=us-ascii\n",
            "Content-Transfer-Encoding: 7bit\n",
            "\n",
            "<html><body bgColor=\"#CCCCCC\" topmargin=1 onMouseOver=\"window.status=''; return true\" oncontextmenu=\"return false\" ondragstart=\"return false\" onselectstart=\"return false\">\n",
            "<div align=\"center\">Hello, jm@netnoteinc.com<BR><BR></div><div align=\"center\"></div><p align=\"center\"><b><font face=\"Arial\" size=\"4\">Human Growth Hormone Therapy</font></b></p>\n",
            "<p align=\"center\"><b><font face=\"Arial\" size=\"4\">Lose weight while building lean muscle mass<br>and reversing the ravages of aging all at once.</font><font face=\"Arial\" size=\"3\"><br>\n",
            "</font></b><font face=\"Arial\" size=\"3\"> <br>Remarkable discoveries about Human Growth Hormones (<b>HGH</b>) <br>are changing the way we think about aging and weight loss.</font></p>\n",
            "<center><table width=\"481\"><tr><td height=\"2\" width=\"247\"><p align=\"left\"><b><font face=\"Arial, Helvetica, sans-serif\" size=\"3\">Lose Weight<br>Build Muscle Tone<br>Reverse Aging<br>\n",
            "Increased Libido<br>Duration Of Penile Erection<br></font></b></p></td><td height=\"2\" width=\"222\"><p align=\"left\"><b><font face=\"Arial, Helvetica, sans-serif\" size=\"3\">Healthier Bones<br>\n",
            "Improved Memory<br>Improved skin<br>New Hair Growth<br>Wrinkle Disappearance </font></b></p></td></table></center><p align=\"center\"><a href=\"http://211.99.37.206:81/ultimatehgh_run/\"><font face=\"Arial\" size=\"4\"><b>Visit \n",
            "Our Web Site and Learn The Facts: Click Here</b></font></a></p><div align=\"center\"><br><br><br><BR>You are receiving this email as a subscr<!--yyyy-->iber<br>to the Opt<!---->-In Ameri<!---->ca Mailin<!---->g Lis<!---->t. <br>\n",
            "To remo<!--jm-->ve your<!---->self from all related mailli<!--me-->sts,<br>just <a href=\"http://211.99.37.206:81/ultimatehgh_run/remove.php?userid=jm@netnoteinc.com\">Click Here</a></div></body></html>\n",
            "\n"
          ],
          "name": "stdout"
        }
      ]
    },
    {
      "cell_type": "markdown",
      "metadata": {
        "id": "XdZg4EKHxmCL"
      },
      "source": [
        "MAKE DIRS"
      ]
    },
    {
      "cell_type": "code",
      "metadata": {
        "id": "C_WeD-BOm1VF"
      },
      "source": [
        "#MAKE DIRS\r\n",
        "import os, shutil\r\n",
        "\r\n",
        "original_spam_dir = '/content/spam/spam_2'\r\n",
        "original_ham_dir = '/content/ham/easy_ham_2'\r\n",
        "\r\n",
        "base_dir = '/content/spams_and_hams'\r\n",
        "os.makedirs(base_dir, exist_ok=True)\r\n",
        "\r\n",
        "train_dir = os.path.join(base_dir, 'train')\r\n",
        "os.makedirs(train_dir, exist_ok=True)\r\n",
        "validation_dir = os.path.join(base_dir, 'validation')\r\n",
        "os.makedirs(validation_dir, exist_ok=True)\r\n",
        "test_dir = os.path.join(base_dir, 'test')\r\n",
        "os.makedirs(test_dir, exist_ok=True)\r\n",
        "\r\n",
        "train_spams_dir = os.path.join(train_dir, 'spams')\r\n",
        "os.makedirs(train_spams_dir, exist_ok=True)\r\n",
        "\r\n",
        "train_hams_dir = os.path.join(train_dir, 'hams')\r\n",
        "os.makedirs(train_hams_dir, exist_ok=True)\r\n",
        "\r\n",
        "validation_spams_dir = os.path.join(validation_dir, 'spams')\r\n",
        "os.makedirs(validation_spams_dir, exist_ok=True)\r\n",
        "\r\n",
        "validation_hams_dir = os.path.join(validation_dir, 'hams')\r\n",
        "os.makedirs(validation_hams_dir, exist_ok=True)\r\n",
        "\r\n",
        "test_spams_dir = os.path.join(test_dir, 'spams')\r\n",
        "os.makedirs(test_spams_dir, exist_ok=True)\r\n",
        "\r\n",
        "test_hams_dir = os.path.join(test_dir, 'hams')\r\n",
        "os.makedirs(test_hams_dir, exist_ok=True)"
      ],
      "execution_count": null,
      "outputs": []
    },
    {
      "cell_type": "code",
      "metadata": {
        "id": "DNcH8rYttYKZ"
      },
      "source": [
        "#SPAM COPY\r\n",
        "fnames = os.listdir(original_spam_dir)[:1000]\r\n",
        "for i, fname in enumerate(fnames):\r\n",
        "  src = os.path.join(original_spam_dir, fname)\r\n",
        "  dst = os.path.join(train_spams_dir, 'spam.{}.txt'.format(i))\r\n",
        "  shutil.copyfile(src, dst)\r\n",
        "\r\n",
        "fnames = os.listdir(original_spam_dir)[1000:1200]\r\n",
        "for i, fname in enumerate(fnames, start=1000):\r\n",
        "  src = os.path.join(original_spam_dir, fname)\r\n",
        "  dst = os.path.join(validation_spams_dir, 'spam.{}.txt'.format(i))\r\n",
        "  shutil.copyfile(src, dst)\r\n",
        "\r\n",
        "fnames = os.listdir(original_spam_dir)[1200:]\r\n",
        "for i, fname in enumerate(fnames, start=1200):\r\n",
        "  src = os.path.join(original_spam_dir, fname)\r\n",
        "  dst = os.path.join(test_spams_dir, 'spam.{}.txt'.format(i))\r\n",
        "  shutil.copyfile(src, dst)\r\n",
        "\r\n",
        "#HAM COPY\r\n",
        "fnames = os.listdir(original_ham_dir)[:1000]\r\n",
        "for i, fname in enumerate(fnames):\r\n",
        "  src = os.path.join(original_ham_dir, fname)\r\n",
        "  dst = os.path.join(train_hams_dir, 'ham.{}.txt'.format(i))\r\n",
        "  shutil.copyfile(src, dst)\r\n",
        "\r\n",
        "fnames = os.listdir(original_ham_dir)[1000:1200]\r\n",
        "for i, fname in enumerate(fnames, start=1000):\r\n",
        "  src = os.path.join(original_ham_dir, fname)\r\n",
        "  dst = os.path.join(validation_hams_dir, 'ham.{}.txt'.format(i))\r\n",
        "  shutil.copyfile(src, dst)\r\n",
        "\r\n",
        "fnames = os.listdir(original_ham_dir)[1200:]\r\n",
        "for i, fname in enumerate(fnames, start=1200):\r\n",
        "  src = os.path.join(original_ham_dir, fname)\r\n",
        "  dst = os.path.join(test_hams_dir, 'ham.{}.txt'.format(i))\r\n",
        "  shutil.copyfile(src, dst)"
      ],
      "execution_count": null,
      "outputs": []
    },
    {
      "cell_type": "markdown",
      "metadata": {
        "id": "jkOFBWNYwDql"
      },
      "source": [
        "Sanity Check"
      ]
    },
    {
      "cell_type": "code",
      "metadata": {
        "colab": {
          "base_uri": "https://localhost:8080/"
        },
        "id": "7e-Ta4h9u7WK",
        "outputId": "1bdd68b2-fae5-4449-83b7-ce73b11ae71c"
      },
      "source": [
        "print('total training spam texts:', len(os.listdir(train_spams_dir)))\r\n",
        "print('total training ham texts:', len(os.listdir(train_hams_dir)))\r\n",
        "print('total validation spam texts:', len(os.listdir(validation_spams_dir)))\r\n",
        "print('total validation ham texts:', len(os.listdir(validation_hams_dir)))\r\n",
        "print('total test spam texts:', len(os.listdir(test_spams_dir)))\r\n",
        "print('total test ham texts:', len(os.listdir(test_hams_dir)))"
      ],
      "execution_count": null,
      "outputs": [
        {
          "output_type": "stream",
          "text": [
            "total training spam texts: 1000\n",
            "total training ham texts: 1000\n",
            "total validation spam texts: 200\n",
            "total validation ham texts: 200\n",
            "total test spam texts: 197\n",
            "total test ham texts: 201\n"
          ],
          "name": "stdout"
        }
      ]
    },
    {
      "cell_type": "markdown",
      "metadata": {
        "id": "_3-UuGj90QdK"
      },
      "source": [
        "Preprocessing"
      ]
    },
    {
      "cell_type": "code",
      "metadata": {
        "colab": {
          "base_uri": "https://localhost:8080/"
        },
        "id": "W-FCZfPqwkp4",
        "outputId": "a347a86e-3606-4bd5-f846-1d52828a6c0d"
      },
      "source": [
        "batch_size = 16\r\n",
        "\r\n",
        "raw_train_ds = tf.keras.preprocessing.text_dataset_from_directory(\r\n",
        "    train_dir, batch_size=batch_size, \r\n",
        ")"
      ],
      "execution_count": null,
      "outputs": [
        {
          "output_type": "stream",
          "text": [
            "Found 2000 files belonging to 2 classes.\n"
          ],
          "name": "stdout"
        }
      ]
    },
    {
      "cell_type": "code",
      "metadata": {
        "colab": {
          "base_uri": "https://localhost:8080/"
        },
        "id": "q7268S7YFC8I",
        "outputId": "4749bb77-fc2a-43e4-9c97-cc99a6da1247"
      },
      "source": [
        "for text_batch, label_batch in raw_train_ds.take(1):\r\n",
        "  for i in range(3):\r\n",
        "    print(\"Mail:\", text_batch.numpy()[i])\r\n",
        "    print(\"Label:\", label_batch.numpy()[i])"
      ],
      "execution_count": null,
      "outputs": [
        {
          "output_type": "stream",
          "text": [
            "Mail: b'From frank356067@yahoo.com  Tue Aug  6 11:01:45 2002\\nReturn-Path: <frank356067@yahoo.com>\\nDelivered-To: yyyy@localhost.netnoteinc.com\\nReceived: from localhost (localhost [127.0.0.1])\\n\\tby phobos.labs.netnoteinc.com (Postfix) with ESMTP id 4F81444127\\n\\tfor <jm@localhost>; Tue,  6 Aug 2002 05:55:18 -0400 (EDT)\\nReceived: from mail.webnote.net [193.120.211.219]\\n\\tby localhost with POP3 (fetchmail-5.9.0)\\n\\tfor jm@localhost (single-drop); Tue, 06 Aug 2002 10:55:18 +0100 (IST)\\nReceived: from mail.al-sorayai.com ([212.118.102.218])\\n\\tby webnote.net (8.9.3/8.9.3) with ESMTP id BAA09631\\n\\tfor <jm@netnoteinc.com>; Sun, 4 Aug 2002 01:45:23 +0100\\nFrom: frank356067@yahoo.com\\nReceived: from 216.146.101.29 ([216.146.101.29]) by mail.al-sorayai.com with Microsoft SMTPSVC(5.0.2195.2966);\\n\\t Sun, 4 Aug 2002 03:49:56 +0300\\nTo: bevstar10@aol.com, nkefsi@hotmail.com, raingod69@hotmail.com,\\n\\twandy4@etrade.com\\nCc: belgrade@mho.net, blair_andrew@hotmail.com,\\n\\t106660.2716@compuserve.com\\nDate: Fri, 2 Aug 2002 17:29:02 -0400\\nSubject: Hello bevstar10  \\nMIME-Version: 1.0\\nX-Mailer: Microsoft Outlook Express 6.00.2600.0000\\nX-MimeOLE: Produced By Microsoft MimeOLE V6.00.2600.0000\\nX-Precedence-Ref: l2340567\\nContent-Transfer-Encoding: 7bit\\nMessage-ID: <MAILrd58ircfI7hiSkS00001070@mail.al-sorayai.com>\\nX-OriginalArrivalTime: 04 Aug 2002 00:49:58.0296 (UTC) FILETIME=[DB546980:01C23B50]\\nContent-Type: text/html; charset=us-ascii\\n\\nDear bevstar10 ,\\n\\n<html>\\n<body>\\n<p><b><font color=\"#FF0000\" size=\"4\">Rape Sex!</font></b><br>\\n<br>\\n<b><font size=\"5\"><a href=\"http://explicitattraction.com/~ea/rapecentral/\">CLICK HERE</a></font><br>\\n</b>\\n<br>\\n=============================================================</p>\\n<p>Do you like sexy animals doing the wild thing? We have the super hot content on the Internet!<br>\\nThis is the site you have heard about. Rated the number one adult site three years in a row!<br>\\n- Thousands of pics from hardcore fucking, and cum shots to pet on girl.<br>\\n- Thousands videos<br>\\nSo what are you waiting for?<br>\\n<br>\\n<a href=\"http://explicitattraction.com/~ea/funfarm/\"><b><font size=\"5\">CLICK HERE</font></b></a></p>\\n<p>\\n<b>YOU MUST BE AT LEAST 18 TO ENTER!</b></p>\\n<p>\\n&nbsp;</p>\\n<p>\\n&nbsp;</p>\\n<p>\\n&nbsp;</p>\\n<p><font size=\"2\">To not be on our &quot;in house&quot; address database<br>\\n</font><a href=\"http://explicitattraction.com/~ea/funfarm/takemeoff.html\"> <font size=\"2\">CLICK HERE</font></a><font size=\"2\"> and you will eliminated from future mailings.</font></p>\\n</body>\\n</html>\\n\\n [:KJ)_8J7B]\\n\\n\\n'\n",
            "Label: 1\n",
            "Mail: b'From httpd@www.meatdemons.com  Fri Aug  2 07:13:02 2002\\nReturn-Path: <httpd@www.meatdemons.com>\\nDelivered-To: yyyy@localhost.netnoteinc.com\\nReceived: from localhost (localhost [127.0.0.1])\\n\\tby phobos.labs.netnoteinc.com (Postfix) with ESMTP id 52BD5440F0\\n\\tfor <jm@localhost>; Fri,  2 Aug 2002 02:13:02 -0400 (EDT)\\nReceived: from mail.webnote.net [193.120.211.219]\\n\\tby localhost with POP3 (fetchmail-5.9.0)\\n\\tfor jm@localhost (single-drop); Fri, 02 Aug 2002 07:13:02 +0100 (IST)\\nReceived: from www.meatdemons.com ([216.133.240.245])\\n\\tby webnote.net (8.9.3/8.9.3) with ESMTP id HAA00963\\n\\tfor <jm@netnoteinc.com>; Fri, 2 Aug 2002 07:07:57 +0100\\nReceived: (from httpd@localhost)\\n\\tby www.meatdemons.com (8.11.6/8.11.6) id g72EBwH22030;\\n\\tFri, 2 Aug 2002 07:11:58 -0700\\nDate: Fri, 2 Aug 2002 07:11:58 -0700\\nMessage-Id: <200208021411.g72EBwH22030@www.meatdemons.com>\\nTo: yyyy@netnoteinc.com\\nSubject: Meatdemons\\nFrom: News@meatdemons.com\\n\\nCome check out Meatdemons!!\\nThese young starlets think they have a future sucking cock.\\nWith Amazing Facials, Cum Shots, and Deep Throating action.\\nthey just might.\\n \\nClick here for our free 80 picture gallery!!\\nhttp://free10.meatdemons.com/free.html\\n\\nNo strings attached. I know everyones says that.\\nBut it is true.\\n\\n'\n",
            "Label: 1\n",
            "Mail: b'From ilug-admin@linux.ie  Tue Aug 20 15:31:37 2002\\nReturn-Path: <ilug-admin@linux.ie>\\nDelivered-To: yyyy@localhost.netnoteinc.com\\nReceived: from localhost (localhost [127.0.0.1])\\n\\tby phobos.labs.netnoteinc.com (Postfix) with ESMTP id 62A2F43C34\\n\\tfor <jm@localhost>; Tue, 20 Aug 2002 10:31:37 -0400 (EDT)\\nReceived: from phobos [127.0.0.1]\\n\\tby localhost with IMAP (fetchmail-5.9.0)\\n\\tfor jm@localhost (single-drop); Tue, 20 Aug 2002 15:31:37 +0100 (IST)\\nReceived: from lugh.tuatha.org (root@lugh.tuatha.org [194.125.145.45]) by\\n    dogma.slashnull.org (8.11.6/8.11.6) with ESMTP id g7KEWkZ10154 for\\n    <jm-ilug@jmason.org>; Tue, 20 Aug 2002 15:32:46 +0100\\nReceived: from lugh (root@localhost [127.0.0.1]) by lugh.tuatha.org\\n    (8.9.3/8.9.3) with ESMTP id PAA07940; Tue, 20 Aug 2002 15:31:36 +0100\\nReceived: from webnote.net (mail.webnote.net [193.120.211.219]) by\\n    lugh.tuatha.org (8.9.3/8.9.3) with ESMTP id PAA07904 for <ilug@linux.ie>;\\n    Tue, 20 Aug 2002 15:31:27 +0100\\nX-Authentication-Warning: lugh.tuatha.org: Host mail.webnote.net\\n    [193.120.211.219] claimed to be webnote.net\\nReceived: (from lbedford@localhost) by webnote.net (8.9.3/8.9.3) id\\n    PAA28198; Tue, 20 Aug 2002 15:31:17 +0100\\nDate: Tue, 20 Aug 2002 15:31:17 +0100\\nFrom: Liam Bedford <lbedford@lbedford.org>\\nTo: Anthony <ant@elivefree.net>\\nCc: ilug@linux.ie\\nSubject: Re: [ILUG] hwclock\\nMessage-Id: <20020820143117.GA28159@mail.webnote.net>\\nReferences: <TFSABNZO@flogas.ie> <3D624D27.98DB1B4E@elivefree.net>\\nMIME-Version: 1.0\\nContent-Type: text/plain; charset=us-ascii\\nContent-Disposition: inline\\nIn-Reply-To: <3D624D27.98DB1B4E@elivefree.net>\\nUser-Agent: Mutt/1.4i\\nContent-Transfer-Encoding: 8bit\\nX-MIME-Autoconverted: from quoted-printable to 8bit by lugh.tuatha.org id\\n    PAA07904\\nSender: ilug-admin@linux.ie\\nErrors-To: ilug-admin@linux.ie\\nX-Mailman-Version: 1.1\\nPrecedence: bulk\\nList-Id: Irish Linux Users\\' Group <ilug.linux.ie>\\nX-Beenthere: ilug@linux.ie\\n\\nOn Tue, Aug 20, 2002 at 03:07:35PM +0100, Anthony wrote:\\n> > > In my experience Windows will change the hardware clock the first time\\n> > > you boot into it after the clocks have gone forward/back an hour.  This\\n> > > will only happen twice a year. How to stop it, I have not checked (I\\n> > > just switch the clock back an hour from within windows after such a\\n> > > reboot).  Is there a GMT windows timezone?\\n> > \\x18\\n> \\n> > Start->Settings->Control Panel->Date/Time->Time Zone tab-> Uncheck\\n> > \"Automatically adjust clock for daylight saving change\".\\n> > \\n> \\n> Ah, that\\'s grand. I knew about that aspect and had already unchecked the\\n> appropriate box. I was just worried that Windows was engaging in\\n> undocumented behaviour that I didn\\'t know about.\\n> \\nwell, it changes the time then, and then leaves it alone.\\n\\nHowever, Windows expects the time in the RTC to be local time. Linux\\ncan be configured to do either this, or to have the RTC at UTC,\\nand then use /etc/localtime to figure out the right timezone.\\n\\nDepending on how you\\'ve set it up, this may be a problem (with one\\nor other of the OS\\'s one hour out). OS-X also does this silliness :(\\n\\n(RTC should always have UTC, that way different people can set their\\nown timezone on the machine... though I suppose that only applies\\nto multi-user machines).\\n\\nL.\\n\\n-- \\nIrish Linux Users\\' Group: ilug@linux.ie\\nhttp://www.linux.ie/mailman/listinfo/ilug for (un)subscription information.\\nList maintainer: listmaster@linux.ie\\n\\n'\n",
            "Label: 0\n"
          ],
          "name": "stdout"
        }
      ]
    },
    {
      "cell_type": "code",
      "metadata": {
        "colab": {
          "base_uri": "https://localhost:8080/"
        },
        "id": "UJbVKmxNHMvx",
        "outputId": "15cdc9ff-5451-4839-ec0e-c5ebb0d9da8f"
      },
      "source": [
        "print(\"Label 0: \", raw_train_ds.class_names[0])\r\n",
        "print(\"Label 1: \", raw_train_ds.class_names[1])"
      ],
      "execution_count": null,
      "outputs": [
        {
          "output_type": "stream",
          "text": [
            "Label 0:  hams\n",
            "Label 1:  spams\n"
          ],
          "name": "stdout"
        }
      ]
    },
    {
      "cell_type": "code",
      "metadata": {
        "colab": {
          "base_uri": "https://localhost:8080/"
        },
        "id": "MxRwzsdbHdxc",
        "outputId": "1824d550-62df-46cf-a022-9417cf150f43"
      },
      "source": [
        "raw_val_ds = tf.keras.preprocessing.text_dataset_from_directory(\r\n",
        "    validation_dir, batch_size=batch_size, \r\n",
        ")\r\n",
        "raw_test_ds = tf.keras.preprocessing.text_dataset_from_directory(\r\n",
        "    test_dir, batch_size=batch_size, \r\n",
        ")"
      ],
      "execution_count": null,
      "outputs": [
        {
          "output_type": "stream",
          "text": [
            "Found 400 files belonging to 2 classes.\n",
            "Found 398 files belonging to 2 classes.\n"
          ],
          "name": "stdout"
        }
      ]
    },
    {
      "cell_type": "markdown",
      "metadata": {
        "id": "jdfg4zZ5H6TC"
      },
      "source": [
        "Prepare the dataset for training"
      ]
    },
    {
      "cell_type": "code",
      "metadata": {
        "id": "HOvsHZZRIU66"
      },
      "source": [
        "max_features = 10000\r\n",
        "sequence_length = 250\r\n",
        "\r\n",
        "vectorize_layer = TextVectorization(\r\n",
        "    max_tokens=max_features,\r\n",
        "    output_mode='int',\r\n",
        "    output_sequence_length=sequence_length)"
      ],
      "execution_count": null,
      "outputs": []
    },
    {
      "cell_type": "code",
      "metadata": {
        "id": "l_p_gRyEIfGq"
      },
      "source": [
        "# Make a text-only dataset (without labels), then call adapt\r\n",
        "train_text = raw_train_ds.map(lambda x, y: x)\r\n",
        "vectorize_layer.adapt(train_text)"
      ],
      "execution_count": null,
      "outputs": []
    },
    {
      "cell_type": "code",
      "metadata": {
        "id": "CddpVH1dIsoC"
      },
      "source": [
        "def vectorize_text(text, label):\r\n",
        "  text = tf.expand_dims(text, -1)\r\n",
        "  return vectorize_layer(text), label"
      ],
      "execution_count": null,
      "outputs": []
    },
    {
      "cell_type": "code",
      "metadata": {
        "colab": {
          "base_uri": "https://localhost:8080/"
        },
        "id": "Mw56TlZrJLMJ",
        "outputId": "56905b58-9d55-45ba-ea80-de1ff247b531"
      },
      "source": [
        "# retrieve a batch (of 32 reviews and labels) from the dataset\r\n",
        "text_batch, label_batch = next(iter(raw_train_ds))\r\n",
        "first_mail, first_label = text_batch[0], label_batch[0]\r\n",
        "print(\"Mail\", first_review)\r\n",
        "print(\"Label\", raw_train_ds.class_names[first_label])\r\n",
        "print(\"Vectorized review\", vectorize_text(first_mail, first_label))"
      ],
      "execution_count": null,
      "outputs": [
        {
          "output_type": "stream",
          "text": [
            "Mail tf.Tensor(b'From fork-admin@xent.com  Tue Aug  6 12:57:02 2002\\nReturn-Path: <fork-admin@xent.com>\\nDelivered-To: yyyy@localhost.netnoteinc.com\\nReceived: from localhost (localhost [127.0.0.1])\\n\\tby phobos.labs.netnoteinc.com (Postfix) with ESMTP id 351FE44196\\n\\tfor <jm@localhost>; Tue,  6 Aug 2002 07:36:57 -0400 (EDT)\\nReceived: from phobos [127.0.0.1]\\n\\tby localhost with IMAP (fetchmail-5.9.0)\\n\\tfor jm@localhost (single-drop); Tue, 06 Aug 2002 12:36:57 +0100 (IST)\\nReceived: from xent.com ([64.161.22.236]) by dogma.slashnull.org\\n    (8.11.6/8.11.6) with ESMTP id g764YTk13007 for <jm@jmason.org>;\\n    Tue, 6 Aug 2002 05:34:32 +0100\\nReceived: from lair.xent.com (localhost [127.0.0.1]) by xent.com (Postfix)\\n    with ESMTP id 39BA62940BA; Mon,  5 Aug 2002 21:31:04 -0700 (PDT)\\nDelivered-To: fork@spamassassin.taint.org\\nReceived: from 46.34.15.06 (unknown [61.149.27.205]) by xent.com (Postfix)\\n    with SMTP id 5C0F72940AD for <fork@xent.com>; Mon,  5 Aug 2002 21:29:34\\n    -0700 (PDT)\\nFrom: \"info@chinabusinesstravel.com\" <info@chinabusinesstravel.com>\\nTo: fork@spamassassin.taint.org\\nReply-To: info@chinabusinesstravel.com\\nSubject: Valuable Business Information Of China\\nMIME-Version: 1.0\\nMessage-Id: <20020806042934.5C0F72940AD@xent.com>\\nSender: fork-admin@xent.com\\nErrors-To: fork-admin@xent.com\\nX-Beenthere: fork@spamassassin.taint.org\\nX-Mailman-Version: 2.0.11\\nPrecedence: bulk\\nList-Help: <mailto:fork-request@xent.com?subject=help>\\nList-Post: <mailto:fork@spamassassin.taint.org>\\nList-Subscribe: <http://xent.com/mailman/listinfo/fork>, <mailto:fork-request@xent.com?subject=subscribe>\\nList-Id: Friends of Rohit Khare <fork.xent.com>\\nList-Unsubscribe: <http://xent.com/mailman/listinfo/fork>,\\n    <mailto:fork-request@xent.com?subject=unsubscribe>\\nList-Archive: <http://xent.com/pipermail/fork/>\\nDate: Tue, 06 Aug 2002 12:34:20 +0800\\nContent-Type: multipart/related; boundary=\"717fbb98-2427-46fa-b1fc-01aeb8d47c3f\"\\n\\n\\nThis is a multi-part message in MIME format\\n--717fbb98-2427-46fa-b1fc-01aeb8d47c3f\\nContent-Type: text/html; charset=gb2312\\nContent-Transfer-Encoding: quoted-printable\\n\\n<html>\\n<head>\\n<title>Travel to China,Welcome to China business travel!</title>\\n<META name=3D\"description\" content=3D\"specializing in business and personal =\\ntravel services to China.\">\\n<META name=3D\"keywords\" content=3D\"business travel,china business =\\ntravel,china travel,china business,china,business,travel,an agent for travel =\\nto China, provide China travel service, act as China travel guide,for China =\\nbusieness, help doing business in China=A3=ACChina Olympics, China 2008, =\\ntraveling, travel, air, airfare, cruises, affordable, Asia, East, China, =\\nChinese, Tibet, Tibetan, Mongolia, Mongolian, minority regions, ancient silk =\\nroad, Beijing, Xian, Guilin, Hangzhou, Nanjing, Wuxi, Kunming, Guangzhou, =\\nBangkok, Singapore, Bali, Tokyo, Kuala Lumpur, Hong Kong, Guangzhou, Foshan, =\\nZhongshan, Macau, Shenzhen, Foshan, Zhaoqing, Shanghai, Hothot, Kashgar, =\\nUrumqi, Dunhuang, Harbin, Jiayuguan, Qingdao, Luoyang, Chngdu, Leshan, Lhasa, =\\nChongqing, Yangtze River, Xishuangbanna, Suzhou, Hangzhou, Sanya, Huang =\\nGuoshu, Wuhan, Huangshan\">\\n<meta http-equiv=3D\"Content-Type\" content=3D\"text/html; charset=3Dgb2312\">\\n<style type=3D\"text/css\">\\n<!--\\nA.a01 {  font-size: 11px; color: 487EB3; text-decoration: underline; =\\nfont-family: \"Arial\", \"Helvetica\", \"sans-serif\"}\\nA.a01:hover {  color: #FF9900}\\nA.a02 {  font-size: 12px; font-weight: bold; color: D3E4F2; text-decoration: =\\nnone; font-family: \"Arial\", \"Helvetica\", \"sans-serif\"}\\nA.a02:hover {  color: A6C7E8}\\n.p12 {  font-size: 12px; font-family: \"Arial\", \"Helvetica\", \"sans-serif\"}\\ntd {  font-size: 11px; font-family: \"Arial\", \"Helvetica\", \"sans-serif\"}\\na {  color: #333333; text-decoration: none; line-height: 140%; font-family: =\\n\"Arial\", \"Helvetica\", \"sans-serif\"}\\na:hover {  color: #476FA5; text-decoration: underline}\\n.p11 {  font-size: 11px; color: #666666; line-height: 110%}\\nselect {  font-size: 11px; font-family: \"Arial\", \"Helvetica\", \"sans-serif\"}\\n-->\\n</style>\\n<script language=3D\"JavaScript\">\\n<!--\\nfunction MM_jumpMenu(targ,selObj,restore){ //v3.0\\n  eval(targ+\".location=3D\\'\"+selObj.options[selObj.selectedIndex].value+\"\\'\");\\n  if (restore) selObj.selectedIndex=3D0;\\n}\\n//-->\\n</script>\\n</head>\\n<body bgcolor=3D\"#FFFFFF\" text=3D\"#000000\" leftmargin=3D\"0\">\\n<p><font face=3D\"Lucida Sans\"><span lang=3D\"EN-US\">We are an agency =\\nspecializing  \\nin business and personal travel services to China. If you want to take any =\\nactivity in China, please contact us. We will try our best to offer you the =\\ntop services.  \\nIf this email bothers you, please forgive us. We sincerely hope you will  \\nconsider using our services. </span></font><span lang=3D\"EN-US\" style=3D=\\n\"font-family:Arial\"><o:p> \\n&nbsp;\\n</span></p>\\n<table width=3D\"720\" border=3D\"0\" cellspacing=3D\"0\" cellpadding=3D\"0\" align=3D=\\n\"center\">\\n  <tr valign=3D\"bottom\"> \\n    <td><a href=3D\"http://www.china-business-travel.com/index.html\"><img =\\nsrc=3D\"http://www.china-business-travel.com/images/logo.gif\" border=3D\"0\" =\\nwidth=3D\"298\" height=3D\"34\"></a></td>\\n    <td align=3D\"right\"><img src=3D=\\n\"http://www.china-business-travel.com/images/info.jpg\" width=3D\"249\" height=3D=\\n\"34\" border=3D\"0\" usemap=3D\"#Map\"></td>\\n  </tr>\\n</table>\\n<table width=3D\"720\" border=3D\"0\" cellspacing=3D\"0\" cellpadding=3D\"0\" align=3D=\\n\"center\" bgcolor=3D\"487EB3\">\\n  <tr> \\n    <td width=3D\"42\"><img src=3D=\\n\"http://www.china-business-travel.com/images/corner1.gif\" width=3D\"42\" =\\nheight=3D\"24\" border=3D\"0\"></td>\\n    <td align=3D\"center\" width=3D\"95\"><a href=3D=\\n\"http://www.china-business-travel.com/biztour/index.html\" class=3D\"a02\">BIZ \\n      Tour</a></td>                     \\n    <td><img src=3D\"http://www.china-business-travel.com/images/vline1.gif\" =\\nwidth=3D\"7\" height=3D\"24\" border=3D\"0\"></td>\\n    <td align=3D\"center\" width=3D\"115\"><a href=3D=\\n\"http://www.china-business-travel.com/bizconsult/index.html\" class=3D=\\n\"a02\">BIZ \\n      Consulting</a></td>\\n    <td><img src=3D\"http://www.china-business-travel.com/images/vline1.gif\" =\\nwidth=3D\"7\" height=3D\"24\" border=3D\"0\"></td>\\n    <td width=3D\"120\" align=3D\"center\"><a href=3D=\\n\"http://www.china-business-travel.com/packages/index.html\" class=3D\"a02\">Tour =\\n\\n      Packages</a></td>\\n    <td><img src=3D\"http://www.china-business-travel.com/images/vline1.gif\" =\\nwidth=3D\"7\" height=3D\"24\" border=3D\"0\"></td>\\n    <td width=3D\"145\" align=3D\"center\"><a href=3D=\\n\"http://www.china-business-travel.com/adventure/index.html\" class=3D=\\n\"a02\">China \\n      Adventure</a></td>\\n    <td><img src=3D\"http://www.china-business-travel.com/images/vline1.gif\" =\\nwidth=3D\"7\" height=3D\"24\" border=3D\"0\"></td>\\n    <td width=3D\"135\" align=3D\"center\"><a href=3D=\\n\"http://www.china-business-travel.com/customized/index.html\" class=3D=\\n\"a02\">Customized \\n      Tour</a></td>\\n    <td width=3D\"42\" align=3D\"right\"><img src=3D=\\n\"http://www.china-business-travel.com/images/corner2.gif\" width=3D\"42\" =\\nheight=3D\"24\" border=3D\"0\"></td>\\n  </tr>\\n</table>\\n<table width=3D\"720\" border=3D\"0\" cellspacing=3D\"0\" cellpadding=3D\"0\" align=3D=\\n\"center\">\\n  <tr> \\n    <td width=3D\"192\" background=3D\"images/bg1.gif\" valign=3D\"top\"> \\n      <table width=3D\"100%\" border=3D\"0\" cellspacing=3D\"0\" cellpadding=3D\"0\">\\n=\\n\\n        <tr> \\n          <td><img src=3D=\\n\"http://www.chinabusinesstravel.com/images/line1.jpg\" width=3D\"192\" height=3D=\\n\"3\" border=3D\"0\"></td>\\n        </tr>\\n        <tr> \\n          <td><img src=3D=\\n\"http://www.china-business-travel.com/images/line2.jpg\" width=3D\"192\" =\\nheight=3D\"25\" border=3D\"0\"></td>\\n        </tr>\\n        <tr> \\n          <td><img src=3D=\\n\"http://www.china-business-travel.com/images/pic1.jpg\" width=3D\"189\" height=3D=\\n\"49\" border=3D\"0\"></td>\\n        </tr>\\n        <tr> \\n          <td><img src=3D=\\n\"http://www.china-business-travel.com/images/pic3.jpg\" width=3D\"189\" height=3D=\\n\"28\" border=3D\"0\"></td>\\n        </tr>\\n        <tr> \\n          <td> \\n            <table width=3D\"100%\" border=3D\"0\" cellspacing=3D\"5\" =\\ncellpadding=3D\"0\">\\n              <tr> \\n                <td> <br>\\n                  <a href=3D=\\n\"http://www.china-business-travel.com/bizguide/01.html\"><img src=3D=\\n\"http://www.china-business-travel.com/images/dot1.gif\" width=3D\"13\" height=3D=\\n\"14\" border=3D\"0\">The \\n                  people\\'s Republic of China</a><br>\\n                  <a href=3D=\\n\"http://www.china-business-travel.com/bizguide/02.html\"><img src=3D=\\n\"http://www.china-business-travel.com/images/dot1.gif\" width=3D\"13\" height=3D=\\n\"14\" border=3D\"0\">Natural \\n                  Conditions</a><br>\\n                  <a href=3D=\\n\"http://www.china-business-travel.com/bizguide/03.html\"><img src=3D=\\n\"http://www.china-business-travel.com/images/dot1.gif\" width=3D\"13\" height=3D=\\n\"14\" border=3D\"0\">Political \\n                  System</a><br>\\n                  <a href=3D=\\n\"http://www.china-business-travel.com/bizguide/04.html\"><img src=3D=\\n\"http://www.china-business-travel.com/images/dot1.gif\" width=3D\"13\" height=3D=\\n\"14\" border=3D\"0\">Industries \\n                  and Infrastructure</a><br>\\n                  <a href=3D=\\n\"http://www.china-business-travel.com/bizguide/05.html\"><img src=3D=\\n\"http://www.china-business-travel.com/images/dot1.gif\" width=3D\"13\" height=3D=\\n\"14\" border=3D\"0\">Foreign \\n                  Trade Laws</a><br>\\n                  <a href=3D=\\n\"http://www.china-business-travel.com/bizguide/06.html\"><img src=3D=\\n\"http://www.china-business-travel.com/images/dot1.gif\" width=3D\"13\" height=3D=\\n\"14\" border=3D\"0\">Import \\n                  and Export Procedures</a><br>\\n                  <a href=3D=\\n\"http://www.china-business-travel.com/bizguide/07.html\"><img src=3D=\\n\"http://www.china-business-travel.com/images/dot1.gif\" width=3D\"13\" height=3D=\\n\"14\" border=3D\"0\">Policy \\n                  on Foreign</a><br>\\n                  <a href=3D=\\n\"http://www.china-business-travel.com/bizguide/08.html\"><img src=3D=\\n\"http://www.china-business-travel.com/images/dot1.gif\" width=3D\"13\" height=3D=\\n\"14\" border=3D\"0\">Establishment \\n                  and Termination</a><br>\\n                  <a href=3D=\\n\"http://www.china-business-travel.com/bizguide/09.html\"><img src=3D=\\n\"http://www.china-business-travel.com/images/dot1.gif\" width=3D\"13\" height=3D=\\n\"14\" border=3D\"0\">Establishment \\n                  of Representative <img src=3D=\\n\"http://www.china-business-travel.com/images/dot2.gif\" width=3D\"13\" height=3D=\\n\"14\" border=3D\"0\">Offices</a><br>                        \\n                </td>\\n              </tr>\\n            </table>\\n          </td>\\n        </tr>\\n        <tr> \\n          <td><img src=3D=\\n\"http://www.china-business-travel.com/images/pic2.jpg\" width=3D\"189\" height=3D=\\n\"28\" border=3D\"0\"></td>\\n        </tr>\\n        <tr> \\n          <td> \\n            <table width=3D\"100%\" border=3D\"0\" cellspacing=3D\"5\" =\\ncellpadding=3D\"0\">\\n              <tr> \\n                <td><a href=3D=\\n\"http://www.china-business-travel.com/travelguide/01.html\"><img src=3D=\\n\"http://www.china-business-travel.com/images/dot1.gif\" width=3D\"13\" height=3D=\\n\"14\" border=3D\"0\">Arrival \\n                  and Departure</a><br>\\n                  <a href=3D=\\n\"http://www.china-business-travel.com/travelguide/01.html\"><img src=3D=\\n\"http://www.china-business-travel.com/images/dot1.gif\" width=3D\"13\" height=3D=\\n\"14\" border=3D\"0\"></a><a href=3D=\\n\"http://www.china-business-travel.com/travelguide/02.html\">Customs \\n                  Declaration </a><br>\\n                  <a href=3D=\\n\"http://www.china-business-travel.com/travelguide/01.html\"><img src=3D=\\n\"http://www.china-business-travel.com/images/dot1.gif\" width=3D\"13\" height=3D=\\n\"14\" border=3D\"0\"></a><a href=3D=\\n\"http://www.china-business-travel.com/travelguide/03.html\">Passports \\n                  and Visas</a> <br>\\n                  <a href=3D=\\n\"http://www.china-business-travel.com/travelguide/01.html\"><img src=3D=\\n\"http://www.china-business-travel.com/images/dot1.gif\" width=3D\"13\" height=3D=\\n\"14\" border=3D\"0\"></a><a href=3D=\\n\"http://www.china-business-travel.com/travelguide/04.html\">Right \\n                  of Residence</a><br>\\n                  <a href=3D=\\n\"http://www.china-business-travel.com/travelguide/01.html\"><img src=3D=\\n\"http://www.china-business-travel.com/images/dot1.gif\" width=3D\"13\" height=3D=\\n\"14\" border=3D\"0\"></a><a href=3D=\\n\"http://www.china-business-travel.com/travelguide/05.html\">Communications</a> =\\n\\n                  <br>\\n                  <a href=3D=\\n\"http://www.china-business-travel.com/travelguide/01.html\"><img src=3D=\\n\"http://www.china-business-travel.com/images/dot1.gif\" width=3D\"13\" height=3D=\\n\"14\" border=3D\"0\"></a><a href=3D=\\n\"http://www.china-business-travel.com/travelguide/06.html\">Transportation \\n                  </a><br>\\n                  <a href=3D=\\n\"http://www.china-business-travel.com/travelguide/01.html\"><img src=3D=\\n\"http://www.china-business-travel.com/images/dot1.gif\" width=3D\"13\" height=3D=\\n\"14\" border=3D\"0\"></a><a href=3D=\\n\"http://www.china-business-travel.com/travelguide/07.html\">Accommodation \\n                  and Shopping</a><br>\\n                  <a href=3D=\\n\"http://www.china-business-travel.com/travelguide/01.html\"><img src=3D=\\n\"http://www.china-business-travel.com/images/dot1.gif\" width=3D\"13\" height=3D=\\n\"14\" border=3D\"0\"></a><a href=3D=\\n\"http://www.china-business-travel.com/travelguide/08.html\">Medical \\n                  &amp; Health</a><br>\\n                  <a href=3D=\\n\"http://www.china-business-travel.com/travelguide/01.html\"><img src=3D=\\n\"http://www.china-business-travel.com/images/dot1.gif\" width=3D\"13\" height=3D=\\n\"14\" border=3D\"0\"></a><a href=3D=\\n\"http://www.china-business-travel.com/travelguide/09.html\">Sightseeing</a></t=\\nd>\\n              </tr>\\n            </table>\\n          </td>\\n        </tr>\\n      </table>\\n    </td>\\n    <td width=3D\"6\"></td>\\n    <td valign=3D\"top\">\\n           <table width=3D\"100%\" border=3D\"0\" cellspacing=3D\"0\" cellpadding=3D=\\n\"0\" height=3D\"4\">\\n        <tr> \\n          <td></td>\\n        </tr>\\n      </table>\\n      <table width=3D\"522\" border=3D\"0\" cellspacing=3D\"0\" cellpadding=3D\"0\">\\n        <tr> \\n          <td><object classid=3D\"clsid:D27CDB6E-AE6D-11cf-96B8-444553540000\" =\\ncodebase=3D=\\n\"http://download.macromedia.com/pub/shockwave/cabs/flash/swflash.cab#version==\\n3D5,0,0,0\" width=3D\"522\" height=3D\"142\">\\n              <param name=3Dmovie value=3D=\\n\"http://www.china-business-travel.com/images/super.swf\">\\n              <param name=3Dquality value=3Dhigh>\\n              <embed src=3D\"images/super.swf\" quality=3D\"high\" pluginspage=3D=\\n\"http://www.macromedia.com/shockwave/download/index.cgi?P1_Prod_Version=3D=\\nShockwaveFlash\" type=3D\"application/x-shockwave-flash\" width=3D\"522\" height=3D=\\n\"142\"> \\n            </object></td>\\n        </tr>\\n      </table>\\n      <br>\\n      <table border=3D\"0\" cellspacing=3D\"0\" cellpadding=3D\"0\" width=3D\"522\">\\n        <tr> \\n          <td width=3D\"10\"></td>\\n          <td> \\n            <table width=3D\"100%\" border=3D\"0\" cellspacing=3D\"0\" =\\ncellpadding=3D\"0\">\\n              <tr> \\n                <td width=3D\"170\"><a href=3D=\\n\"http://www.china-business-travel.com/biztour/index.html\"><img src=3D=\\n\"http://www.china-business-travel.com/images/x1.jpg\" width=3D\"154\" height=3D=\\n\"85\" border=3D\"0\" alt=3D\"Business Tour\"></a></td>\\n                <td valign=3D\"top\"><b><span ><font color=3D\"487EB3\">China \\n                  Business Tour</font></span></b><br>\\n                  Today China remains the fastest growing economy in the =\\nworld, \\n                  China is predicted to become the world\\'s largest economic =\\ncenter \\n                  by the year 2030. If you have not been to China yet, the =\\nopportunity \\n                  is here, the time is now. <a href=3D=\\n\"http://www.china-business-travel.com/biztour/index.html\" class=3D\"a01\">Read \\n=\\n\\n                  the detail &gt;&gt;</a></td>                       \\n              </tr>\\n            </table>\\n            <br><br>\\n            <table width=3D\"100%\" border=3D\"0\" cellspacing=3D\"0\" =\\ncellpadding=3D\"0\">\\n              <tr> \\n                <td valign=3D\"top\" width=3D\"20\">&nbsp;</td>\\n                <td valign=3D\"top\"><b ><font color=3D\"487EB3\">China Business =\\nAssistant</font></b><br>\\n                  <img src=3D=\\n\"http://www.china-business-travel.com/images/error.gif\" width=3D\"9\" height=3D=\\n\"9\" border=3D\"0\"> \\n                  Through our experiences, we know the value of face-to-face =\\nmeetings \\n                  in the international arena, and how developing trust and =\\nrespect \\n                  with trading partners goes a long way toward ensuring =\\nmutual \\n                  success. <a href=3D=\\n\"http://www.china-business-travel.com/bizconsult/index.html\" class=3D=\\n\"a01\">Read \\n                  the detail &gt;&gt;</a></td>                       \\n                \\n                <td width=3D\"175\" align=3D\"right\"><a href=3D=\\n\"http://www.china-business-travel.com/bizconsult/index.html\"><img src=3D=\\n\"http://www.china-business-travel.com/images/x2.jpg\" width=3D\"154\" height=3D=\\n\"98\" border=3D\"0\" alt=3D\"Business Assistant\"></a></td>\\n              </tr>\\n            </table>\\n            <br>\\n            <br>\\n            <table width=3D\"100%\" border=3D\"0\" cellspacing=3D\"0\" =\\ncellpadding=3D\"0\">\\n              <tr> \\n                <td width=3D\"250\" valign=3D\"top\"> <b><span ><font color=3D=\\n\"487EB3\">China \\n                  Customized Tour</font></span></b> \\n                  <table width=3D\"100%\" border=3D\"0\" cellspacing=3D\"0\" =\\ncellpadding=3D\"4\">\\n                    <tr> \\n                      <td><img src=3D=\\n\"http://www.china-business-travel.com/images/ff2.jpg\" width=3D\"68\" height=3D=\\n\"120\" border=3D\"0\"></td>\\n                      <td valign=3D\"top\">An itinerary can be arranged to meet =\\nyour                        \\n                        individual requirement; to include visiting =\\nrelatives,                        \\n                        friends, and business contacts.<br>\\n                        <a href=3D=\\n\"http://www.china-business-travel.com/customized/index.html\" class=3D=\\n\"a01\">Read \\n                        the detail &gt;&gt;</a></td>\\n                    </tr>\\n                  </table>\\n                </td>\\n                <td valign=3D\"top\" width=3D\"10\">&nbsp;</td>\\n                <td valign=3D\"top\"> <b><font color=3D\"487EB3\">Exhibitions of =\\nChina                                   \\n                  2002</font></b>\\n                  <table width=3D\"100%\" border=3D\"0\" cellspacing=3D\"0\" =\\ncellpadding=3D\"4\">\\n                    <tr> \\n                      <td><img src=3D=\\n\"http://www.china-business-travel.com/images/ff1.jpg\" width=3D\"68\" height=3D=\\n\"120\" border=3D\"0\"></td>\\n                      <td valign=3D\"top\">\\n                        <table width=3D\"100%\" border=3D\"0\" cellspacing=3D\"0\" =\\ncellpadding=3D\"4\">\\n                          <tr>  <form name=3D\"form1\">\\n                            <td>\\n                             \\n                                <select name=3D\"menu1\" onChange=3D=\\n\"MM_jumpMenu(\\'parent\\',this,1)\">\\n                                  <option value=3D=\\n\"http://www.china-business-travel.com/exhibition/accessories.html\">Accessorie=\\ns \\n                                  </option>\\n                                  <option value=3D=\\n\"http://www.china-business-travel.com/exhibition/aeronautics.html\">Aeronautic=\\ns</option>\\n                                  <option value=3D=\\n\"http://www.china-business-travel.com/exhibition/agriculture.html\" =\\nselected>Agriculture</option>\\n                                  <option value=3D=\\n\"http://www.china-business-travel.com/exhibition/automobiles.html\">Automobile=\\ns</option>\\n                                  <option value=3D=\\n\"http://www.china-business-travel.com/exhibition/building.html\">Building</opt=\\nion>\\n                                  <option value=3D=\\n\"http://www.china-business-travel.com/exhibition/chemical.html\">Chemical \\n                                  Industry</option>\\n                                  <option value=3D=\\n\"http://www.china-business-travel.com/exhibition/clothing.html\">Clothing</opt=\\nion>\\n                                  <option value=3D=\\n\"http://www.china-business-travel.com/exhibition/clothing-machinery.html\">Clo=\\nthing \\n                                  Machinery</option>\\n                                  <option value=3D=\\n\"http://www.china-business-travel.com/exhibition/construction-machinery.html\"=\\n>Construction \\n                                  Machinery</option>\\n                                  <option value=3D=\\n\"http://www.china-business-travel.com/exhibition/computer.html\">Computer \\n                                  & Communication</option>\\n                                  <option value=3D=\\n\"http://www.china-business-travel.com/exhibition/cosmetics.html\">Cosmetics</o=\\nption>\\n                                  <option value=3D=\\n\"http://www.china-business-travel.com/exhibition/craftsman.html\">Craftsman`s \\n=\\n\\n                                  Equipment</option>\\n                                  <option value=3D=\\n\"http://www.china-business-travel.com/exhibition/educational.html\">Educationa=\\nl \\n                                  Materials</option>\\n                                  <option value=3D=\\n\"http://www.china-business-travel.com/exhibition/electronics.html\">Electronic=\\ns</option>\\n                                  <option value=3D=\\n\"http://www.china-business-travel.com/exhibition/energy.html\">Energy</option>\\n=\\n\\n                                  <option value=3D=\\n\"http://www.china-business-travel.com/exhibition/food.html\">Food \\n                                  & Tobacco & Wine</option>\\n                                  <option value=3D=\\n\"http://www.china-business-travel.com/exhibition/food-machine.html\">Food \\n                                  Machines & Packaging</option>\\n                                  <option value=3D=\\n\"http://www.china-business-travel.com/exhibition/furniture.html\">Furniture</o=\\nption>\\n                                  <option value=3D=\\n\"http://www.china-business-travel.com/exhibition/health-medical.html\">Health \\n=\\n\\n                                  & Medical</option>\\n                                  <option value=3D=\\n\"http://www.china-business-travel.com/exhibition/hotel.html\">Hotel \\n                                  and Restaurant</option>\\n                                  <option value=3D=\\n\"http://www.china-business-travel.com/exhibition/industrial.html\">Industrial \\n=\\n\\n                                  Equipment </option>\\n                                  <option value=3D=\\n\"http://www.china-business-travel.com/exhibition/interior.html\">Interior \\n                                  Design</option>\\n                                  <option value=3D=\\n\"http://www.china-business-travel.com/exhibition/leather.html\">Leather \\n                                  </option>\\n                                  <option value=3D=\\n\"http://www.china-business-travel.com/exhibition/logos.html\">Logos \\n                                  & Advertising & Design</option>\\n                                  <option value=3D=\\n\"http://www.china-business-travel.com/exhibition/machine.html\">Machine \\n                                  Tools</option>\\n                                  <option value=3D=\\n\"http://www.china-business-travel.com/exhibition/nursery.html\">Nursery \\n                                  Equipment</option>\\n                                  <option value=3D=\\n\"http://www.china-business-travel.com/exhibition/paper.html\">Paper \\n                                  & Printing</option>\\n                                  <option value=3D=\\n\"http://www.china-business-travel.com/exhibition/railway.html\">Railway \\n                                  & Transport</option>\\n                                  <option value=3D=\\n\"http://www.china-business-travel.com/exhibition/safety.html\">Safety \\n                                  & Fire Protection</option>\\n                                  <option value=3D=\\n\"http://www.china-business-travel.com/exhibition/scintefic.html\">Scintefic \\n                                  Equipment</option>\\n                                  <option value=3D=\\n\"http://www.china-business-travel.com/exhibition/sports.html\">Sports \\n                                  Equipment</option>\\n                                  <option value=3D=\\n\"http://www.china-business-travel.com/exhibition/tools.html\">Tools</option>\\n                                  <option value=3D=\\n\"http://www.china-business-travel.com/exhibition/toys.html\">Toys</option>\\n                                  <option value=3D=\\n\"http://www.china-businesst-ravel.com/exhibition/travel.html\">Travel</option>\\n=\\n\\n                                  <option value=3D=\\n\"http://www.china-businesst-ravel.com/exhibition/waste.html\">Waste \\n                                  Technology</option>\\n                                  <option value=3D=\\n\"http://www.china-business-travel.com/exhibition/other.html\">Other \\n                                  Trade Fairs</option>\\n                                  <option value=3D=\\n\"http://www.china-business-travel.com/exhibition/fairs.html\">Fairs \\n                                  for Consumer Goods</option>\\n                                </select>\\n                             \\n                            </td> </form>\\n                          </tr>\\n                        </table>\\n                        We provide information query for all the exhibitions =\\nin      \\n                        China every year, and offer various consulting =\\nservices      \\n                        for potential clients who have the intent to take =\\npart      \\n                        in exhibitions in China. </td>     \\n                    </tr>\\n                  </table>\\n                </td>\\n              </tr>\\n            </table>\\n            <br><br>\\n            <table width=3D\"100%\" border=3D\"0\" cellspacing=3D\"0\" =\\ncellpadding=3D\"0\" bgcolor=3D\"F7F3F7\">\\n              <tr valign=3D\"top\"> \\n                <td width=3D\"9\" height=3D\"9\"><img src=3D=\\n\"http://www.china-business-travel.com/images/arc3.jpg\" width=3D\"9\" height=3D=\\n\"9\"></td>\\n                <td width=3D\"69\" height=3D\"9\"></td>\\n                <td height=3D\"9\" width=3D\"176\"></td>\\n                <td height=3D\"9\" width=3D\"70\"></td>\\n                <td height=3D\"9\"></td>\\n                <td width=3D\"11\" align=3D\"right\" height=3D\"9\"><img src=3D=\\n\"http://www.china-business-travel.com/images/arc4.jpg\" width=3D\"9\" height=3D=\\n\"9\" border=3D\"0\"></td>\\n              </tr>\\n              <tr> \\n                <td width=3D\"9\">&nbsp;</td>\\n                <td width=3D\"69\" valign=3D\"top\"> <a href=3D=\\n\"http://www.china-business-travel.com/packages/index.html\"><img src=3D=\\n\"http://www.china-business-travel.com/images/sight1.jpg\" width=3D\"60\" =\\nheight=3D\"60\" border=3D\"0\"></a></td>\\n                <td valign=3D\"top\" width=3D\"176\"> <a href=3D=\\n\"http://www.china-business-travel.com/packages/index.html\"><b><span ><font =\\ncolor=3D\"487EB3\">China \\n                  Tour Packages </font></span></b></a> \\n                  <table width=3D\"142\" border=3D\"0\" cellspacing=3D\"0\" =\\ncellpadding=3D\"0\">\\n                    <tr valign=3D\"top\"> \\n                      <td width=3D\"41%\"> <img src=3D=\\n\"http://www.china-business-travel.com/images/dot3.jpg\"><a href=3D=\\n\"http://www.china-business-travel.com/packages/CC.htm\">China \\n                        Civilization</a> </td> \\n                    </tr>\\n                    <tr valign=3D\"top\"> \\n                      <td width=3D\"41%\"> <img src=3D=\\n\"http://www.china-business-travel.com/images/dot3.jpg\"><a href=3D=\\n\"http://www.china-business-travel.com/packages/ECS.htm\">East \\n                        China Splendor</a> </td>                     \\n                    </tr>\\n                    <tr valign=3D\"top\"> \\n                      <td width=3D\"41%\"> <img src=3D=\\n\"http://www.china-business-travel.com/images/dot3.jpg\"><a href=3D=\\n\"http://www.china-business-travel.com/packages/MC.htm\">Memorial \\n                        China</a> </td> \\n                    </tr>\\n                    <tr valign=3D\"top\"> \\n                      <td width=3D\"41%\"> <img src=3D=\\n\"http://www.china-business-travel.com/images/dot3.jpg\"><a href=3D=\\n\"http://www.china-business-travel.com/packages/SRA.htm\">Silk \\n                        Road Adventure</a> <br>\\n                        <img src=3D=\\n\"http://www.china-business-travel.com/images/dot3.jpg\"><a href=3D=\\n\"http://www.china-business-travel.com/packages/YRC.htm\">Yangtze \\n                        River Cruises</a> <br>\\n                        <img src=3D=\\n\"http://www.china-business-travel.com/images/dot3.jpg\"><a href=3D=\\n\"http://www.china-business-travel.com/packages/MW.htm\">Minority \\n                        Wander</a> <br>\\n                        <img src=3D=\\n\"http://www.china-business-travel.com/images/dot3.jpg\"><a href=3D=\\n\"http://www.china-business-travel.com/packages/MT.htm\">Mystical \\n                        Tibet</a> </td> \\n                    </tr>\\n                  </table>\\n                </td>\\n                <td valign=3D\"top\" width=3D\"70\"><a href=3D=\\n\"http://www.china-business-travel.com/adventure/index.html\"><img src=3D=\\n\"http://www.china-business-travel.com/images/sight5.jpg\" width=3D\"60\" =\\nheight=3D\"60\" border=3D\"0\"></a></td>\\n                <td valign=3D\"top\"><a href=3D=\\n\"http://www.china-business-travel.com/adventure/index.html\"><b ><font color=3D=\\n\"487EB3\">China \\n                  Adventure</font></b></a> \\n                  <table width=3D\"100%\" border=3D\"0\" cellspacing=3D\"0\" =\\ncellpadding=3D\"0\">\\n                    <tr>\\n                      <td><img src=3D=\\n\"http://www.china-business-travel.com/images/dot3.jpg\"><a href=3D=\\n\"http://www.china-business-travel.com/adventure/drifting.html\" target=3D=\\n\"_blank\">Drifting \\n                        Tour</a><br>\\n                        <img src=3D=\\n\"http://www.china-business-travel.com/images/dot3.jpg\"><a href=3D=\\n\"http://www.china-business-travel.com/adventure/foot.html\" target=3D=\\n\"_blank\">Traveling \\n                        on Foot</a><br>\\n                        <img src=3D=\\n\"http://www.china-business-travel.com/images/dot3.jpg\"><a href=3D=\\n\"http://www.china-business-travel.com/adventure/self-Driving.html\" target=3D=\\n\"_blank\">Self-Driving \\n                        Tour</a><br>\\n                        <img src=3D=\\n\"http://www.china-business-travel.com/images/dot3.jpg\"><a href=3D=\\n\"http://www.china-business-travel.com/adventure/martial.html\" target=3D=\\n\"_blank\">Martial \\n                        Arts and Fitness Tour </a></td>                       =\\n\\n                    </tr>\\n                  </table>\\n                  \\n                </td>\\n                <td width=3D\"11\" align=3D\"right\">&nbsp;</td>\\n              </tr>\\n              <tr valign=3D\"bottom\"> \\n                <td width=3D\"9\" height=3D\"9\"><img src=3D=\\n\"http://www.china-business-travel.com/images/arc2.jpg\" width=3D\"9\" height=3D=\\n\"9\" border=3D\"0\"></td>\\n                <td width=3D\"69\" height=3D\"9\"></td>\\n                <td height=3D\"9\" width=3D\"176\"></td>\\n                <td height=3D\"9\" width=3D\"70\"></td>\\n                <td height=3D\"9\"></td>\\n                <td width=3D\"11\" align=3D\"right\" height=3D\"9\"><img src=3D=\\n\"http://www.china-business-travel.com/images/arc1.jpg\" width=3D\"9\" height=3D=\\n\"9\" border=3D\"0\"></td>\\n              </tr>\\n            </table>\\n          <br></td>\\n        </tr>\\n      </table>      \\n    </td>\\n  </tr>\\n  <tr> \\n    <td width=3D\"192\" valign=3D\"bottom\" background=3D=\\n\"http://www.chinabusinesstravel.com/images/bg1.gif\"><img src=3D=\\n\"http://www.china-business-travel.com/images/corner3.gif\" width=3D\"192\" =\\nheight=3D\"18\" border=3D\"0\"></td>\\n    <td width=3D\"6\"></td>\\n    <td align=3D\"right\">  <map name=3D\"Map\"> \\n        <area shape=3D\"rect\" coords=3D\"184,17,212,32\" href=3D=\\n\"http://www.china-business-travel.com/info/sqa.htm\" target=3D\"_blank\">\\n        <area shape=3D\"rect\" coords=3D\"113,17,166,32\" href=3D=\\n\"http://www.china-business-travel.com/info/contact.htm\" target=3D\"_blank\">\\n        <area shape=3D\"rect\" coords=3D\"44,17,97,32\" href=3D=\\n\"http://www.china-business-travel.com/info/about.htm\" target=3D\"_blank\">\\n  </map> \\n      <hr noshade size=3D\"1\" color=3D9BB2C7>\\n      <font color=3D\"#666666\">      <table width=3D\"100%\" border=3D\"0\" =\\ncellspacing=3D\"0\" cellpadding=3D\"0\">\\n        <tr align=3D\"right\"> \\n          <td><font color=3D\"#666666\">Copyright &copy; 2002 =\\nChinabusinesstravel,All                        \\n            Rights Reserved</font></td>                       \\n          <td><font color=3D\"#666666\">E-mail:<a href=3D=\\n\"mailto:info@chinabusinesstravel.com\"><font color=3D=\\n\"#666666\">info@chinabusinesstravel.com</font></a></font></td>\\n        </tr>\\n      </table></font></td>\\n  </tr>\\n</table>\\n</body>\\n</html>  \\n--717fbb98-2427-46fa-b1fc-01aeb8d47c3f--\\n\\nhttp://xent.com/mailman/listinfo/fork\\n\\n\\n', shape=(), dtype=string)\n",
            "Label spams\n",
            "Vectorized review (<tf.Tensor: shape=(1, 250), dtype=int64, numpy=\n",
            "array([[   4,    1,   34,  135,   86,    1,    5,   71,    1,  337,   63,\n",
            "          59,  301,    1,    5,   12,    4,    1,    1,    1,    8,   57,\n",
            "          47,    7,   19,   13,    1,    6, 1067,   63,  301,   59,    5,\n",
            "           1,   21,   12,    4,    1,    1,    8,    1,    7,   78,  143,\n",
            "         452,  154,  142,  187,  214, 5182,   13,    1,   42,  364,   59,\n",
            "           5,    1,  141,   64,    1,    3,    1,    1,    1,    1,    1,\n",
            "           1,    1,    1,    1,    1,    1,    1,    1,    1,    1,    1,\n",
            "           1,    1,    1,    1,    1,    1,   85,    1,    1,    1,    1,\n",
            "           1,    1,    1,    1,    1,    1,    1,    1,    1, 1067,    1,\n",
            "           1,    1,    1,    1,    1,    1,    1,    4,    1,   48,   70,\n",
            "        1428, 1555, 2387,  473,   56,   42,  364,   59,    5,    1, 1262,\n",
            "          75,   54,  312,   58,  237,  178,   95,  265,  133,  225,  280,\n",
            "        4403, 4851,  280,  897,  915, 3499, 3181,  280, 1726, 3160, 1783,\n",
            "         585,  280, 2947, 3073,    1, 8633,  225,  153,  123,  246,  233,\n",
            "          55,  192, 9707,    1,   27,   20,  338,    1,  123,  246,   55,\n",
            "         192,    1, 8350, 3087,   27, 2362,    1, 6468,  426,  444, 2348,\n",
            "           1, 1781, 1514,    1, 7017,    1,  103,  502,  674,    1,    4,\n",
            "           2, 6928,    3,    1,  800,  277,    1,   32,  111, 1266,  119,\n",
            "        1477,  439,    3,  289,  715,   23, 4770, 1144,    1,   24,  389,\n",
            "         610,  299,  800,  277, 4867,    1, 4665,    1, 2362, 9713, 6468,\n",
            "        1789,    1,    1,  192,    1,    1, 8749,    1,   27,   55,  123,\n",
            "         123,  246,   55,  192, 7911, 9229,   27,   20, 8740, 5075,  246,\n",
            "        6590, 8423, 3014,   70,  697, 2686, 6174, 1949]])>, <tf.Tensor: shape=(), dtype=int32, numpy=1>)\n"
          ],
          "name": "stdout"
        }
      ]
    },
    {
      "cell_type": "code",
      "metadata": {
        "id": "CTxxZaEiJRRa"
      },
      "source": [
        "train_ds = raw_train_ds.map(vectorize_text)\r\n",
        "val_ds = raw_val_ds.map(vectorize_text)\r\n",
        "test_ds = raw_test_ds.map(vectorize_text)"
      ],
      "execution_count": null,
      "outputs": []
    },
    {
      "cell_type": "code",
      "metadata": {
        "id": "Ly53r5JTJc_6"
      },
      "source": [
        "AUTOTUNE = tf.data.AUTOTUNE\r\n",
        "\r\n",
        "train_ds = train_ds.cache().prefetch(buffer_size=AUTOTUNE)\r\n",
        "val_ds = val_ds.cache().prefetch(buffer_size=AUTOTUNE)\r\n",
        "test_ds = test_ds.cache().prefetch(buffer_size=AUTOTUNE)"
      ],
      "execution_count": null,
      "outputs": []
    },
    {
      "cell_type": "code",
      "metadata": {
        "colab": {
          "base_uri": "https://localhost:8080/"
        },
        "id": "qT9DAfypKGmz",
        "outputId": "75145c87-606a-4334-c8fc-57dd1d2a2f75"
      },
      "source": [
        "embedding_dim = 16\r\n",
        "model = tf.keras.Sequential([\r\n",
        "  layers.Embedding(max_features + 1, embedding_dim),\r\n",
        "  layers.Dropout(0.2),\r\n",
        "  layers.GlobalAveragePooling1D(),\r\n",
        "  layers.Dropout(0.2),\r\n",
        "  layers.Dense(1)])\r\n",
        "\r\n",
        "model.summary()"
      ],
      "execution_count": null,
      "outputs": [
        {
          "output_type": "stream",
          "text": [
            "Model: \"sequential_4\"\n",
            "_________________________________________________________________\n",
            "Layer (type)                 Output Shape              Param #   \n",
            "=================================================================\n",
            "embedding_3 (Embedding)      (None, None, 16)          160016    \n",
            "_________________________________________________________________\n",
            "dropout_6 (Dropout)          (None, None, 16)          0         \n",
            "_________________________________________________________________\n",
            "global_average_pooling1d_3 ( (None, 16)                0         \n",
            "_________________________________________________________________\n",
            "dropout_7 (Dropout)          (None, 16)                0         \n",
            "_________________________________________________________________\n",
            "dense_3 (Dense)              (None, 1)                 17        \n",
            "=================================================================\n",
            "Total params: 160,033\n",
            "Trainable params: 160,033\n",
            "Non-trainable params: 0\n",
            "_________________________________________________________________\n"
          ],
          "name": "stdout"
        }
      ]
    },
    {
      "cell_type": "code",
      "metadata": {
        "id": "BwaqtSxqKJqa"
      },
      "source": [
        "from keras import losses\r\n",
        "model.compile(loss=losses.BinaryCrossentropy(from_logits=True),\r\n",
        "              optimizer='adam',\r\n",
        "              metrics=tf.metrics.BinaryAccuracy(threshold=0.0))"
      ],
      "execution_count": null,
      "outputs": []
    },
    {
      "cell_type": "code",
      "metadata": {
        "colab": {
          "base_uri": "https://localhost:8080/"
        },
        "id": "XaXG0qO6KT5p",
        "outputId": "ea4eaeb9-f6ac-4313-c4a3-03c0b07032cf"
      },
      "source": [
        "epochs = 10\r\n",
        "history = model.fit(\r\n",
        "    train_ds,\r\n",
        "    validation_data=val_ds,\r\n",
        "    epochs=30)\r\n"
      ],
      "execution_count": null,
      "outputs": [
        {
          "output_type": "stream",
          "text": [
            "Epoch 1/30\n",
            "125/125 [==============================] - 2s 13ms/step - loss: 0.6704 - binary_accuracy: 0.8795 - val_loss: 0.5902 - val_binary_accuracy: 0.9275\n",
            "Epoch 2/30\n",
            "125/125 [==============================] - 1s 5ms/step - loss: 0.5516 - binary_accuracy: 0.9354 - val_loss: 0.4483 - val_binary_accuracy: 0.9300\n",
            "Epoch 3/30\n",
            "125/125 [==============================] - 1s 5ms/step - loss: 0.4081 - binary_accuracy: 0.9359 - val_loss: 0.3312 - val_binary_accuracy: 0.9300\n",
            "Epoch 4/30\n",
            "125/125 [==============================] - 1s 5ms/step - loss: 0.2972 - binary_accuracy: 0.9414 - val_loss: 0.2571 - val_binary_accuracy: 0.9300\n",
            "Epoch 5/30\n",
            "125/125 [==============================] - 1s 5ms/step - loss: 0.2289 - binary_accuracy: 0.9472 - val_loss: 0.2128 - val_binary_accuracy: 0.9300\n",
            "Epoch 6/30\n",
            "125/125 [==============================] - 1s 5ms/step - loss: 0.1869 - binary_accuracy: 0.9484 - val_loss: 0.1846 - val_binary_accuracy: 0.9350\n",
            "Epoch 7/30\n",
            "125/125 [==============================] - 1s 5ms/step - loss: 0.1608 - binary_accuracy: 0.9504 - val_loss: 0.1653 - val_binary_accuracy: 0.9350\n",
            "Epoch 8/30\n",
            "125/125 [==============================] - 1s 5ms/step - loss: 0.1391 - binary_accuracy: 0.9537 - val_loss: 0.1511 - val_binary_accuracy: 0.9475\n",
            "Epoch 9/30\n",
            "125/125 [==============================] - 1s 5ms/step - loss: 0.1240 - binary_accuracy: 0.9604 - val_loss: 0.1402 - val_binary_accuracy: 0.9475\n",
            "Epoch 10/30\n",
            "125/125 [==============================] - 1s 5ms/step - loss: 0.1125 - binary_accuracy: 0.9675 - val_loss: 0.1311 - val_binary_accuracy: 0.9525\n",
            "Epoch 11/30\n",
            "125/125 [==============================] - 1s 5ms/step - loss: 0.1048 - binary_accuracy: 0.9680 - val_loss: 0.1232 - val_binary_accuracy: 0.9525\n",
            "Epoch 12/30\n",
            "125/125 [==============================] - 1s 5ms/step - loss: 0.0937 - binary_accuracy: 0.9701 - val_loss: 0.1165 - val_binary_accuracy: 0.9600\n",
            "Epoch 13/30\n",
            "125/125 [==============================] - 1s 5ms/step - loss: 0.0850 - binary_accuracy: 0.9705 - val_loss: 0.1105 - val_binary_accuracy: 0.9625\n",
            "Epoch 14/30\n",
            "125/125 [==============================] - 1s 5ms/step - loss: 0.0819 - binary_accuracy: 0.9741 - val_loss: 0.1053 - val_binary_accuracy: 0.9650\n",
            "Epoch 15/30\n",
            "125/125 [==============================] - 1s 5ms/step - loss: 0.0734 - binary_accuracy: 0.9762 - val_loss: 0.1006 - val_binary_accuracy: 0.9650\n",
            "Epoch 16/30\n",
            "125/125 [==============================] - 1s 5ms/step - loss: 0.0676 - binary_accuracy: 0.9765 - val_loss: 0.0965 - val_binary_accuracy: 0.9650\n",
            "Epoch 17/30\n",
            "125/125 [==============================] - 1s 5ms/step - loss: 0.0618 - binary_accuracy: 0.9788 - val_loss: 0.0929 - val_binary_accuracy: 0.9650\n",
            "Epoch 18/30\n",
            "125/125 [==============================] - 1s 5ms/step - loss: 0.0590 - binary_accuracy: 0.9799 - val_loss: 0.0895 - val_binary_accuracy: 0.9650\n",
            "Epoch 19/30\n",
            "125/125 [==============================] - 1s 5ms/step - loss: 0.0537 - binary_accuracy: 0.9830 - val_loss: 0.0863 - val_binary_accuracy: 0.9700\n",
            "Epoch 20/30\n",
            "125/125 [==============================] - 1s 5ms/step - loss: 0.0506 - binary_accuracy: 0.9827 - val_loss: 0.0835 - val_binary_accuracy: 0.9725\n",
            "Epoch 21/30\n",
            "125/125 [==============================] - 1s 5ms/step - loss: 0.0480 - binary_accuracy: 0.9863 - val_loss: 0.0810 - val_binary_accuracy: 0.9700\n",
            "Epoch 22/30\n",
            "125/125 [==============================] - 1s 5ms/step - loss: 0.0443 - binary_accuracy: 0.9886 - val_loss: 0.0787 - val_binary_accuracy: 0.9700\n",
            "Epoch 23/30\n",
            "125/125 [==============================] - 1s 6ms/step - loss: 0.0414 - binary_accuracy: 0.9883 - val_loss: 0.0766 - val_binary_accuracy: 0.9700\n",
            "Epoch 24/30\n",
            "125/125 [==============================] - 1s 5ms/step - loss: 0.0383 - binary_accuracy: 0.9902 - val_loss: 0.0745 - val_binary_accuracy: 0.9700\n",
            "Epoch 25/30\n",
            "125/125 [==============================] - 1s 5ms/step - loss: 0.0348 - binary_accuracy: 0.9902 - val_loss: 0.0727 - val_binary_accuracy: 0.9725\n",
            "Epoch 26/30\n",
            "125/125 [==============================] - 1s 5ms/step - loss: 0.0322 - binary_accuracy: 0.9926 - val_loss: 0.0708 - val_binary_accuracy: 0.9725\n",
            "Epoch 27/30\n",
            "125/125 [==============================] - 1s 5ms/step - loss: 0.0305 - binary_accuracy: 0.9927 - val_loss: 0.0692 - val_binary_accuracy: 0.9750\n",
            "Epoch 28/30\n",
            "125/125 [==============================] - 1s 5ms/step - loss: 0.0305 - binary_accuracy: 0.9955 - val_loss: 0.0677 - val_binary_accuracy: 0.9775\n",
            "Epoch 29/30\n",
            "125/125 [==============================] - 1s 5ms/step - loss: 0.0273 - binary_accuracy: 0.9950 - val_loss: 0.0666 - val_binary_accuracy: 0.9800\n",
            "Epoch 30/30\n",
            "125/125 [==============================] - 1s 5ms/step - loss: 0.0244 - binary_accuracy: 0.9947 - val_loss: 0.0653 - val_binary_accuracy: 0.9800\n"
          ],
          "name": "stdout"
        }
      ]
    },
    {
      "cell_type": "code",
      "metadata": {
        "id": "q6IDaZc_cd-I"
      },
      "source": [
        "history.history.keys()"
      ],
      "execution_count": null,
      "outputs": []
    },
    {
      "cell_type": "code",
      "metadata": {
        "id": "Y27RJutPcYfB"
      },
      "source": [
        "\r\n",
        "def plot_acc_val(history):\r\n",
        "  acc = history.history['binary_accuracy']\r\n",
        "  val_acc = history.history['val_binary_accuracy']\r\n",
        "  loss = history.history['loss']\r\n",
        "  val_loss = history.history['val_loss']\r\n",
        "\r\n",
        "  epochs = range(1, len(acc) + 1)\r\n",
        "\r\n",
        "  plt.plot(epochs, acc, 'bo', label='Training acc')\r\n",
        "  plt.plot(epochs, val_acc, 'b', label='Validation acc')\r\n",
        "  plt.title('Training and validation accuracy')\r\n",
        "  plt.legend()\r\n",
        "\r\n",
        "  plt.figure()\r\n",
        "\r\n",
        "  plt.plot(epochs, loss, 'bo', label='Training loss')\r\n",
        "  plt.plot(epochs, val_loss, 'b', label='Validation loss')\r\n",
        "  plt.title('Training and validation loss')\r\n",
        "  plt.legend()\r\n",
        "\r\n",
        "  plt.show()\r\n",
        "plot_acc_val(history)"
      ],
      "execution_count": null,
      "outputs": []
    },
    {
      "cell_type": "code",
      "metadata": {
        "id": "yh07oF4CKYTw"
      },
      "source": [
        "loss, accuracy = model.evaluate(test_ds)\r\n",
        "\r\n",
        "print(\"Loss: \", loss)\r\n",
        "print(\"Accuracy: \", accuracy)"
      ],
      "execution_count": null,
      "outputs": []
    },
    {
      "cell_type": "code",
      "metadata": {
        "id": "rmLO4rydecDo"
      },
      "source": [
        "train_ds"
      ],
      "execution_count": null,
      "outputs": []
    },
    {
      "cell_type": "code",
      "metadata": {
        "id": "AZrVmXJMKdhh"
      },
      "source": [
        "history_dict = history.history\r\n",
        "history_dict.keys()"
      ],
      "execution_count": null,
      "outputs": []
    },
    {
      "cell_type": "code",
      "metadata": {
        "id": "J6wuTJzrKkU5"
      },
      "source": [
        "acc = history_dict['binary_accuracy']\r\n",
        "val_acc = history_dict['val_binary_accuracy']\r\n",
        "loss = history_dict['loss']\r\n",
        "val_loss = history_dict['val_loss']\r\n",
        "\r\n",
        "epochs = range(1, len(acc) + 1)\r\n",
        "\r\n",
        "# \"bo\" is for \"blue dot\"\r\n",
        "plt.plot(epochs, loss, 'bo', label='Training loss')\r\n",
        "# b is for \"solid blue line\"\r\n",
        "plt.plot(epochs, val_loss, 'b', label='Validation loss')\r\n",
        "plt.title('Training and validation loss')\r\n",
        "plt.xlabel('Epochs')\r\n",
        "plt.ylabel('Loss')\r\n",
        "plt.legend()\r\n",
        "\r\n",
        "plt.show()"
      ],
      "execution_count": null,
      "outputs": []
    },
    {
      "cell_type": "code",
      "metadata": {
        "id": "oSN1ghqdKmfy"
      },
      "source": [
        "plt.plot(epochs, acc, 'bo', label='Training acc')\r\n",
        "plt.plot(epochs, val_acc, 'b', label='Validation acc')\r\n",
        "plt.title('Training and validation accuracy')\r\n",
        "plt.xlabel('Epochs')\r\n",
        "plt.ylabel('Accuracy')\r\n",
        "plt.legend(loc='lower right')\r\n",
        "\r\n",
        "plt.show()"
      ],
      "execution_count": null,
      "outputs": []
    },
    {
      "cell_type": "code",
      "metadata": {
        "colab": {
          "base_uri": "https://localhost:8080/"
        },
        "id": "nzv0pDGyKqtq",
        "outputId": "3448b37b-5f87-4450-e389-07421346fa77"
      },
      "source": [
        "train_val_ds = train_ds.concatenate(val_ds)\r\n",
        "\r\n",
        "model.compile(loss=losses.BinaryCrossentropy(from_logits=True),\r\n",
        "              optimizer='adam',\r\n",
        "              metrics=tf.metrics.BinaryAccuracy(threshold=0.0))\r\n",
        "\r\n",
        "history = model.fit(\r\n",
        "    train_val_ds,    \r\n",
        "    epochs=10)"
      ],
      "execution_count": null,
      "outputs": [
        {
          "output_type": "stream",
          "text": [
            "Epoch 1/10\n",
            "150/150 [==============================] - 2s 12ms/step - loss: 0.0168 - binary_accuracy: 0.9975\n",
            "Epoch 2/10\n",
            "150/150 [==============================] - 2s 12ms/step - loss: 0.0137 - binary_accuracy: 0.9981\n",
            "Epoch 3/10\n",
            "150/150 [==============================] - 2s 12ms/step - loss: 0.0123 - binary_accuracy: 0.9977\n",
            "Epoch 4/10\n",
            "150/150 [==============================] - 2s 12ms/step - loss: 0.0110 - binary_accuracy: 0.9983\n",
            "Epoch 5/10\n",
            "150/150 [==============================] - 2s 12ms/step - loss: 0.0091 - binary_accuracy: 0.9986\n",
            "Epoch 6/10\n",
            "150/150 [==============================] - 2s 12ms/step - loss: 0.0100 - binary_accuracy: 0.9977\n",
            "Epoch 7/10\n",
            "150/150 [==============================] - 2s 12ms/step - loss: 0.0062 - binary_accuracy: 0.9990\n",
            "Epoch 8/10\n",
            "150/150 [==============================] - 2s 12ms/step - loss: 0.0070 - binary_accuracy: 0.9982\n",
            "Epoch 9/10\n",
            "150/150 [==============================] - 2s 13ms/step - loss: 0.0066 - binary_accuracy: 0.9981\n",
            "Epoch 10/10\n",
            "150/150 [==============================] - 2s 13ms/step - loss: 0.0062 - binary_accuracy: 0.9982\n"
          ],
          "name": "stdout"
        }
      ]
    },
    {
      "cell_type": "code",
      "metadata": {
        "colab": {
          "base_uri": "https://localhost:8080/"
        },
        "id": "Xgg-GfY5LOty",
        "outputId": "7661bb4a-1378-4a7e-cea5-5ca0a18b3cb0"
      },
      "source": [
        "loss, accuracy = model.evaluate(test_ds)\r\n",
        "print(accuracy)"
      ],
      "execution_count": null,
      "outputs": [
        {
          "output_type": "stream",
          "text": [
            "25/25 [==============================] - 0s 8ms/step - loss: 0.0289 - binary_accuracy: 0.9950\n",
            "0.9949748516082764\n"
          ],
          "name": "stdout"
        }
      ]
    },
    {
      "cell_type": "code",
      "metadata": {
        "id": "CVrwc1o-LZoq"
      },
      "source": [
        "accuracy"
      ],
      "execution_count": null,
      "outputs": []
    },
    {
      "cell_type": "code",
      "metadata": {
        "colab": {
          "base_uri": "https://localhost:8080/"
        },
        "id": "Hts72LEzLfmJ",
        "outputId": "038ca5d2-392f-4f53-cf29-454b59baabb7"
      },
      "source": [
        "export_model = tf.keras.Sequential([\r\n",
        "  vectorize_layer,\r\n",
        "  model,\r\n",
        "  layers.Activation('sigmoid')\r\n",
        "])\r\n",
        "\r\n",
        "export_model.compile(\r\n",
        "    loss=losses.BinaryCrossentropy(from_logits=False), optimizer=\"adam\", metrics=['accuracy']\r\n",
        ")\r\n",
        "\r\n",
        "# Test it with `raw_test_ds`, which yields raw strings\r\n",
        "loss, accuracy = export_model.evaluate(raw_test_ds)\r\n",
        "print(accuracy)"
      ],
      "execution_count": null,
      "outputs": [
        {
          "output_type": "stream",
          "text": [
            "25/25 [==============================] - 1s 9ms/step - loss: 0.0173 - accuracy: 0.9965\n",
            "0.9949748516082764\n"
          ],
          "name": "stdout"
        }
      ]
    },
    {
      "cell_type": "code",
      "metadata": {
        "colab": {
          "base_uri": "https://localhost:8080/"
        },
        "id": "woKU5Ot3PWFU",
        "outputId": "79f448bb-c17c-444c-d111-a14776c81e4f"
      },
      "source": [
        "my_test = [  \r\n",
        "  \"Show me the money\",\r\n",
        "\r\n",
        "  \"I'm your father\",\r\n",
        "\r\n",
        "\r\n",
        "  \"An introduction to a broad range of topics\\\r\n",
        "   in deep learning, covering mathematical and\\\r\n",
        "    conceptual background, deep learning techniques\\\r\n",
        "     used in industry, and research perspectives. “Written by three experts\",\r\n",
        "\r\n",
        "   \"From ilug-admin@linux.ie  Mon Aug 12 11:07:18 2002\\nReturn-Path: \\\r\n",
        "     <ilug-admin@linux.ie>\\nDelivered-To: yyyy@localhost.netnoteinc.com\\nReceived: \\\r\n",
        "     from localhost (localhost [127.0.0.1])\\n\\tby phobos.labs.netnoteinc.com (Postfix) \\\r\n",
        "     with ESMTP id 453A74415D\\n\\tfor <jm@localhost>; Mon, 12 Aug 2002 05:56:06 -0400 \\\r\n",
        "     (EDT)\\nReceived: from phobos [127.0.0.1]\\n\\tby localhost with IMAP (fetchmail-5.9.0\\\r\n",
        "     )\\n\\tfor jm@localhost (single-drop); Mon, 12 Aug 2002 10:56:06 +0100 (IST)\\nReceived:\\\r\n",
        "      from lugh.tuatha.org (root@lugh.tuatha.org [194.125.145.45]) by\\n    dogma.slashnull.\\\r\n",
        "      org (8.11.6/8.11.6) with ESMTP id g7BIMnb09833 for\\n    <jm-ilug@jmason.org>; Sun, 11\\\r\n",
        "       Aug 2002 19:22:49 +0100\\nReceived: from lugh (root@localhost [127.0.0.1]) by lugh.tuatha.org\\n\\\r\n",
        "         \\ebian))\\n    id 17dxK1-00063A-00 for <ilug@linux.ie>; Sun, 11 Aug 2002 11:20:13 -0700\\nDate: \"\r\n",
        "]\r\n",
        "\r\n",
        "export_model.predict(my_test)"
      ],
      "execution_count": null,
      "outputs": [
        {
          "output_type": "execute_result",
          "data": {
            "text/plain": [
              "array([[0.9163423 ],\n",
              "       [0.89094585],\n",
              "       [0.93109345],\n",
              "       [0.05022385]], dtype=float32)"
            ]
          },
          "metadata": {
            "tags": []
          },
          "execution_count": 120
        }
      ]
    },
    {
      "cell_type": "code",
      "metadata": {
        "id": "7-_560saQ3iy",
        "colab": {
          "base_uri": "https://localhost:8080/",
          "height": 191
        },
        "outputId": "91cdb91d-d142-4056-f3de-5924a95d85cb"
      },
      "source": [
        "#export_model.predict(raw_test_ds)\r\n",
        "raw_test_ds[3]"
      ],
      "execution_count": null,
      "outputs": [
        {
          "output_type": "error",
          "ename": "TypeError",
          "evalue": "ignored",
          "traceback": [
            "\u001b[0;31m---------------------------------------------------------------------------\u001b[0m",
            "\u001b[0;31mTypeError\u001b[0m                                 Traceback (most recent call last)",
            "\u001b[0;32m<ipython-input-115-ec27253f30a6>\u001b[0m in \u001b[0;36m<module>\u001b[0;34m()\u001b[0m\n\u001b[1;32m      1\u001b[0m \u001b[0;31m#export_model.predict(raw_test_ds)\u001b[0m\u001b[0;34m\u001b[0m\u001b[0;34m\u001b[0m\u001b[0;34m\u001b[0m\u001b[0m\n\u001b[0;32m----> 2\u001b[0;31m \u001b[0mraw_test_ds\u001b[0m\u001b[0;34m[\u001b[0m\u001b[0;36m3\u001b[0m\u001b[0;34m]\u001b[0m\u001b[0;34m\u001b[0m\u001b[0;34m\u001b[0m\u001b[0m\n\u001b[0m",
            "\u001b[0;31mTypeError\u001b[0m: 'BatchDataset' object does not support indexing"
          ]
        }
      ]
    },
    {
      "cell_type": "code",
      "metadata": {
        "colab": {
          "base_uri": "https://localhost:8080/"
        },
        "id": "rZM2_oponw-P",
        "outputId": "6cab5f7d-a36b-4832-f827-c66ac76b3040"
      },
      "source": [
        "for text_batch, label_batch in raw_test_ds.take(1):\r\n",
        "  for i in range(3):\r\n",
        "    print(\"Mail:\", text_batch.numpy()[i])\r\n",
        "    print(\"Label:\", label_batch.numpy()[i])"
      ],
      "execution_count": null,
      "outputs": [
        {
          "output_type": "stream",
          "text": [
            "Mail: b'From martenb@aol.com  Wed Jul 17 14:13:39 2002\\nReturn-Path: <martenb@aol.com>\\nDelivered-To: yyyy@localhost.netnoteinc.com\\nReceived: from localhost (localhost [127.0.0.1])\\n\\tby netnoteinc.com (Postfix) with ESMTP id A998043FA2\\n\\tfor <jm@localhost>; Wed, 17 Jul 2002 09:13:38 -0400 (EDT)\\nReceived: from dogma.slashnull.org [212.17.35.15]\\n\\tby localhost with IMAP (fetchmail-5.9.0)\\n\\tfor jm@localhost (single-drop); Wed, 17 Jul 2002 14:13:38 +0100 (IST)\\nReceived: from aol.com ([213.86.103.20]) by dogma.slashnull.org\\n    (8.11.6/8.11.6) with SMTP id g6HD9SJ21165 for <webmaster@efi.ie>;\\n    Wed, 17 Jul 2002 14:09:28 +0100\\nReply-To: <martenb@aol.com>\\nMessage-Id: <025e46c53a6a$5844c6c5$3db56bb7@hqaxpa>\\nFrom: <martenb@aol.com>\\nTo: <webmaster@efi.ie>\\nSubject: Never pay eBay listing fees again!\\nDate: Wed, 17 Jul 0102 05:09:08 +1100\\nMIME-Version: 1.0\\nContent-Type: text/plain; charset=\"iso-8859-1\"\\nX-Priority: 3 (Normal)\\nX-Msmail-Priority: Normal\\nX-Mailer: The Bat! (v1.52f) Business\\nImportance: Normal\\nContent-Transfer-Encoding: 8bit\\n\\nHi,\\n\\nI\\'m a college dropout.  I work about two hours a day.  \\nI\\'m ambitious, but extremely lazy, and I make over \\n$250,000 a year.  Are you curious yet?\\n\\nIn a minute I\\'m going to tell you my secret,\\nit\\'s the dirty little secret of the Internet ...\\n\\nYou\\'ve probably heard stories about people making\\nwhopping huge money online, but you thought they \\nwere the big corporate execs, famous programmers, or\\nboy-geniuses.\\n\\nWell, grasshopper, think again ...\\n\\nIt\\'s people like you and me that are making the real\\nmoney.  Yep, people like YOU AND ME!\\n\\nEver since the \"dot com bubble\" burst in 1999, small-time\\nentrepreneurs are getting richer while the Fortune 500 \\ncompanies look for bankruptcy lawyers.\\n\\nToday small business owners and ordinary folks \\nlike you and me can use the web to achieve complete \\nfinancial freedom with NO INVESTMENT and very little \\nwork.  How?  By learning the most profitable marketing \\ntechnique ever created - it\\'s called BULK EMAIL.\\n\\nIf you\\'ve ever recieved an email advertisement, then \\nyou know what bulk email is.  I bet you can\\'t click on \\nDELETE fast enough for most of those ads, right?\\nYou might not want their product, but remember that \\nthousands of other folks probably do.  Bulk email is a \\npercentage game - every bulker who contacts you \\nmakes a six figure income on the Internet.  I \\nguarantee it.  Now let\\'s go back to Math 101 and \\nreview some numbers ...\\n\\nIf you sell on eBay, you pay anywhere from a few\\ndollars to over a hundred dollars just to post one\\nauction.  How many people see your ad?  Maybe a\\ncouple thousand or even ten or twenty thousand\\nover a period of days.  Using bulk email, YOU CAN\\nSEND YOUR AD TO MORE THAN A MILLION PEOPLE A DAY\\nat virtually no cost.  Whether your send 100,000\\nemails or 100 million emails, the price is the same.\\nZERO!\\n\\nStop paying those outrageous auction listing fees when\\nhardly anyone sees your ad!\\n\\nImagine that you have a decent product with a \\nprofit margin of $20.00 on each sale.  If you send \\nan email ad to 500,000 people, and only one person \\nin a thousand actually places an order, then you just \\ngenerated 500 orders and made $10,000 in a few hours \\nof work.  \\n\\nIt\\'s that simple ...\\n\\nAll you have to do is convince ONE PERSON OUT OF A\\nTHOUSAND to buy your stuff and you\\'re FILTHY RICH.\\n\\nThe best thing is that anyone can do it.  Doesn\\'t \\nmatter if you\\'re a nineteen-year-old college student \\nusing a dorm-room computer or a fifty-year-old \\nexecutive working from an office building in New \\nYork City.  Anyone, and I repeat ANYONE, can start \\nbulk emailing with virtually no startup costs.  All \\nit takes is a  few days of study, plenty of ambition, \\nand some basic familiarity with the Internet.\\n\\nI quit college when I was 19 to capitalize on the \\n\"Dot Com\" mania, and I\\'ve never looked back.  I \\nstarted with no money, no product to sell, and only \\nthe most rudimentary computer skills.  I saw an \\nopportunity and I seized it.  A few years later, \\nI bought my own home - with CASH.  \\n\\nYou don\\'t need any money.  You don\\'t need a product.\\nYou don\\'t need to be a computer nerd and no experience\\nwhatsoever is required.  \\n\\nIf you saw an employment ad in the newspaper like that\\nyou\\'d jump right on it.  It would be a dream come true.\\nSo what are you waiting for?!\\n\\nI\\'m going to ask you four simple questions.  If you answer\\nYES to all of them, then I can almost promise that you\\nwill make at least $100,000 using bulk email this year.\\n\\nHere goes ...\\n\\nDo you have basic experience with the web? \\nDo you have a computer and an Internet connection?\\nDo you have a few hours each day of free time?  \\nDo you want to earn some extra money with an eye towards \\ncomplete financial freedom?  \\n\\nIf you answer YES to these questions, you could be\\nmaking $5,000 - $20,000 per week working from your \\nhome.  Kiss your day job goodbye - this sure beats \\nthe 9-5 daily grind!\\n\\nAll you need is ambition and commitment.  This\\nis no \"get rich quick scheme\".  You have to work\\nto make big bucks, but ANYONE - and I mean ANYONE - can do \\nit.\\n\\nYou\\'re probably wondering if it\\'s hard to get started.  \\nDon\\'t worry, it\\'s not! I will show you step-by-step \\nhow to start your first email campaign and how to\\nbuild a booming online business.  You\\'ll be generating \\norders - AND MAKING MONEY - in less than seven days.\\n\\nOkay, so what if you don\\'t have anything to sell?\\n\\nNo problem!!  I\\'ll show you where to find hot\\nproducts that sell like CRAAAAAAZY! Most people delay\\nstarting an Internet business because they have \\nnothing to sell, but I\\'m removing that hurdle right now.  \\nAfter reading the Bulkbook, you can build your complete \\nproduct line in less than two hours!  There is NO EXCUSE \\nnot to get started! I will get you up-and-running within \\nseven days. In fact ...\\n\\nI personally guarantee that you will start your own \\nbulk email campaign less than a week after reading \\nthe Bulkbook!  I\\'ll give you a toll-free phone number \\nto reach me 24 hours a day, seven days a week; \\nwhere else will you find that level of service?!\\n\\nI will also include a step-by-step guide to starting \\nyour very first email campaign called \"Seven Days to \\nBulk Email Success\".  This seperate guide contains a daily \\nroutine for you to follow with specific, exact \\ninstructions on how to get started.  On day one, for \\nexample, I teach you where to find a product to sell. \\nThe next day you learn how to build a fresh mailing \\nlist.  On the seventh day, you just click send!  Your \\nvery first campaign is ready to go.\\n\\nAs a special bonus, you\\'ll recieve a FREE copy \\nof our STEALTH MASS MAILER, a very powerful bulk \\nemail program which retails for $49.99! I\\'ll even\\ninclude 7 million email addresses absolutely FREE\\nif you order NOW!\\n\\nStop wasting your money on auction listing fees, \\nclassifieds, and banner ads - they don\\'t work, and \\nnever will!  If you are SERIOUS about making money \\non the Internet, bulk email is your only option.  \\nWhat are you waiting for?  Few of us are willing \\nto share this knowledge, but I promise to teach \\nyou everything I know about bulk emailing in this \\nextraordinary bulk emailer\\'s handbook ... The Bulkbook! \\n\\nOnce again, here\\'s the deal.  You give me $29.99.  \\nI give you ALL THE TOOLS YOU NEED to become a\\nsuccessful, high profit bulk emailer.  INCLUDING:\\n\\n** THE BULKBOOK\\nTeaches you step-by-step how to become a high profit\\nbulk emailer.  Secret techniques and tips never\\nbefore revealed.\\n\\n** SEVEN DAYS TO BULK EMAIL SUCCESS\\nProvides detailed day-by-day instruction to start sending\\nyour first email campaign in seven days.\\n\\n** 600 Email subjects that PULL LIKE CRAZY\\n\\n** EMAIL LIST MANAGER\\nManage your email lists quickly and easily.  Very \\nuser-friendly, yet powerful, software.\\n\\n** STEALTH MASS MAILER\\nSoftware can send up to 50,000 emails an hour automatically.\\nJust load them in there and click SEND!\\n\\n** ADDRESS ROVER 98 and MACROBOT SEARCH ENGINE ROBOT\\nExtracts email addresses from databases and search engines\\nat speeds of over 200,000 per hour.\\n\\n** WORLDCAST EMAIL VERIFIER\\nUsed to verify your email addresses that you extract to \\nmake sure they\\'re valid.\\n\\n** EBOOK PUBLISHER\\nEasily publish your own e-books and reports for resale using,\\nyou guessed it, bulk email!\\n\\n** SEVEN MILLION EMAIL ADDRESSES\\nThis huge list will get you started bulking right away.\\nI harvested these addresses myself, the list is filled\\nwith IMPULSE BUYERS ready to respond to your ads!\\n\\nIf you added up all of the FULL VERSION BULK EMAIL software\\nincluded with the BULKBOOK package, it would total over\\n$499.  I am giving you the whole bundle for only $29.99.\\nThat means there is no other out-of-pocket startup expense\\nfor you.  Nothing else to buy, no reason to waste money on\\nsoftware that doesn\\'t work.  With this one package, you get \\nEVERYTHING YOU NEED to START BULK EMAILING RIGHT AWAY.  \\n\\nAre you willing to invest $29.99 for the opportunity\\nto make a SIX FIGURE INCOME on the Internet with no \\nstartup cash and very little effort?\\n\\nRemember, you will recieve a toll-free phone number\\nfor 24 hour expert advice and consultation FROM ME\\nPERSONALLY.\\n\\nTo order the Bulkbook right now for only $29.99 with \\na Visa or Mastercard, please click on the link below. \\nThis will take you to our secure server for order \\nprocessing:\\n\\nhttp://www.2003marketing.com/bulkbook.htm\\n\\nNote: The Bulkbook will be delivered electronically\\nwithin 24 hours. It is not available in printed form. \\n\\nYou may also pay with cash, check or money\\norder by printing the order form below and \\nsending it with your payment. \\n\\n------------------------- CUT HERE ----------------------- \\n\\nProduct: \"The Bulkbook\" \\nPrice: $29.99 \\n\\nHOW TO ORDER BY MAIL: Print out this order \\nform and send cash, personal check, money \\norder or cashier\\'s check to the address listed below: \\n\\nInternet Products Enterprises Inc.\\n45 State St. Unit 253\\nMontpelier, VT 05602\\n\\nYour Shipping Information: \\n\\nYour Name_____________________________________________ \\nYour Address__________________________________________ \\nYour City_____________________________________________ \\nState / Zip___________________________________________ \\nPhone #: _____________________________________________ \\n(For problems with your order only. No salesmen will call.) \\n\\nEmail Address________________________________________ \\n\\n\\nIf paying by credit card, please fill in the information below: \\n\\nCredit Card Number:________________________________ \\nExpiration Date:___________________________ \\nSignature:_________________________ \\nDate:____________________ \\n\\n\\nIMPORTANT LEGAL NOTE: There are no criminal laws against\\nthe non-fraudulent sending of unsolicited commercial email \\nin the United States.  However, other countries have passed\\nlaws against this form of marketing, so non-US residents \\nshould check local regulations before ordering. \\n\\n***********************************************************\\nOur company is strictly opposed to unsolicited email.\\nTo be removed from this opt-in list, please send a \\nrequest to \"bulkexpert@yahoo.com\"\\n***********************************************************\\n1027zbAU4-744CWZI4637aGiQ5-254sWzM249l35\\n\\n\\n'\n",
            "Label: 1\n",
            "Mail: b'From a_wigtonebook@yahoo.com  Mon Jul 29 20:57:59 2002\\nReturn-Path: <a_wigtonebook@yahoo.com>\\nDelivered-To: yyyy@localhost.netnoteinc.com\\nReceived: from localhost (localhost [127.0.0.1])\\n\\tby phobos.labs.netnoteinc.com (Postfix) with ESMTP id 93AC9440EE\\n\\tfor <jm@localhost>; Mon, 29 Jul 2002 15:57:59 -0400 (EDT)\\nReceived: from mandark.labs.netnoteinc.com [213.105.180.140]\\n\\tby localhost with POP3 (fetchmail-5.9.0)\\n\\tfor jm@localhost (single-drop); Mon, 29 Jul 2002 20:57:59 +0100 (IST)\\nReceived: from yuloo.com ([211.99.196.215])\\n\\tby mandark.labs.netnoteinc.com (8.11.6/8.11.6) with ESMTP id g6TJtLp08647\\n\\tfor <jm@netnoteinc.com>; Mon, 29 Jul 2002 20:55:22 +0100\\nReceived: from . [63.231.254.186] by yuloo.com with ESMTP\\n  (SMTPD32-7.05) id ADA514FE0128; Tue, 30 Jul 2002 03:55:17 +0800\\nMessage-ID: <00000a8e2976$0000371d$00001d47@.>\\nTo: <yyyy@netway.com>, <yyyy@netmore.net>, <yyyy@neosoft.com>,\\n\\t<jm@netstream.net>, <jm@netgate.net>, <jm@netbox.com>,\\n\\t<jm@newmex.com>, <jm@netpar.com.br>\\nCc: <yyyy@nh.conex.net>, <yyyy@net-quest.com>, <yyyy@netdoor.com>,\\n\\t<jm@netxn.com>, <jm@netquarters.net>, <jm@netti.fi>,\\n\\t<jm@netnoteinc.com>, <jm@netmagic.net>, <jm@neo.lrun.com>\\nFrom: a_wigtonebook@yahoo.com\\nSubject: Your order                1963\\nDate: Mon, 29 Jul 2002 12:52:55 -1900\\nMIME-Version: 1.0\\nContent-Type: text/html; charset=\"iso-8859-1\"\\nContent-Transfer-Encoding: quoted-printable\\n\\n<!DOCTYPE HTML PUBLIC \"-//W3C//DTD HTML 4.0 Transitional//EN\">\\n<html>\\n\\n\\n\\n<body>\\n\\n<div align=3D\"left\">\\n  <table border=3D\"1\" cellpadding=3D\"0\" cellspacing=3D\"0\" style=3D\"border-=\\ncollapse: collapse\" bordercolor=3D\"#111111\" width=3D\"511\" height=3D\"308\" i=\\nd=3D\"AutoNumber1\">\\n    <tr>\\n      <td width=3D\"511\" height=3D\"308\" valign=3D\"top\" bgcolor=3D\"#EBEBEB\">\\n      <p align=3D\"center\"><b><font color=3D\"#000080\" size=3D\"5\">Shopping f=\\nor a loan \\n      has never been easier</font></b></p>\\n      <p align=3D\"center\">&nbsp;</p>\\n      <p align=3D\"center\"><font color=3D\"#000080\">Get a free quote on a ne=\\nw First \\n      Mortgage, Second Mortgage, or a Credit Line with no cost or obligati=\\non.</font></p>\\n      <p align=3D\"center\"><font color=3D\"#000080\">We can help you get a gr=\\neat loan \\n      regardless of your credit situation</font></p>\\n      <p align=3D\"center\"><font color=3D\"#000080\">It\\'s a great time to buy=\\n or \\n      refinance your home.</font></p>\\n      <p align=3D\"center\"><b><font color=3D\"#000080\">Whether you want to:<=\\n/font></b></p>\\n      <p align=3D\"center\"><font color=3D\"#000080\">Buy a new home - consoli=\\ndate your \\n      debts</font></p>\\n      <p align=3D\"center\"><font color=3D\"#000080\">Refinance to lower your =\\npayments</font></p>\\n      <p align=3D\"center\"><font color=3D\"#000080\">Take some equity out of =\\nyour home \\n      for any reason</font></p>\\n      <p align=3D\"center\"><b><font color=3D\"#000080\">We can help!</font></=\\nb></p>\\n      <p align=3D\"center\"><font color=3D\"#000080\" size=3D\"4\">\\n      <a href=3D\"http://211.141.69.11:8111/mortgage/form.htm\">Click here a=\\nnd get a free quote!</a></font></p>\\n      <p align=3D\"center\"><font color=3D\"#000080\"><b>You have nothing to l=\\nose!</b></font></p>\\n      <p align=3D\"center\">&nbsp;</p>\\n      <p align=3D\"center\"><font color=3D\"#000080\">\\n      <a href=3D\"http://211.141.69.11:8111/removes/deptoff.htm\">To not rec=\\neive this \\n      email again click here</a></font></td>\\n    </tr>\\n  </table>\\n</div>\\n\\n</body>\\n\\n</html>\\n\\n\\n\\n\\n'\n",
            "Label: 1\n",
            "Mail: b'From ilug-admin@linux.ie  Mon Aug 12 11:07:18 2002\\nReturn-Path: <ilug-admin@linux.ie>\\nDelivered-To: yyyy@localhost.netnoteinc.com\\nReceived: from localhost (localhost [127.0.0.1])\\n\\tby phobos.labs.netnoteinc.com (Postfix) with ESMTP id 453A74415D\\n\\tfor <jm@localhost>; Mon, 12 Aug 2002 05:56:06 -0400 (EDT)\\nReceived: from phobos [127.0.0.1]\\n\\tby localhost with IMAP (fetchmail-5.9.0)\\n\\tfor jm@localhost (single-drop); Mon, 12 Aug 2002 10:56:06 +0100 (IST)\\nReceived: from lugh.tuatha.org (root@lugh.tuatha.org [194.125.145.45]) by\\n    dogma.slashnull.org (8.11.6/8.11.6) with ESMTP id g7BIMnb09833 for\\n    <jm-ilug@jmason.org>; Sun, 11 Aug 2002 19:22:49 +0100\\nReceived: from lugh (root@localhost [127.0.0.1]) by lugh.tuatha.org\\n    (8.9.3/8.9.3) with ESMTP id TAA03307; Sun, 11 Aug 2002 19:20:27 +0100\\nX-Authentication-Warning: lugh.tuatha.org: Host root@localhost [127.0.0.1]\\n    claimed to be lugh\\nReceived: from linuxmafia.com (linuxmafia.COM [198.144.195.186]) by\\n    lugh.tuatha.org (8.9.3/8.9.3) with ESMTP id TAA03285 for <ilug@linux.ie>;\\n    Sun, 11 Aug 2002 19:20:20 +0100\\nReceived: from rick by linuxmafia.com with local (Exim 3.35 #1 (Debian))\\n    id 17dxK1-00063A-00 for <ilug@linux.ie>; Sun, 11 Aug 2002 11:20:13 -0700\\nDate: Sun, 11 Aug 2002 11:20:12 -0700\\nTo: ilug@linux.ie\\nSubject: Re: [ILUG] SUSE 8 disks? (thread changed slightly)\\nMessage-Id: <20020811182012.GD25331@linuxmafia.com>\\nReferences: <1029023717.2993.4.camel@gemini.windmill>\\n    <20020811134458.74257.qmail@web13902.mail.yahoo.com>\\nMIME-Version: 1.0\\nContent-Type: text/plain; charset=us-ascii\\nContent-Disposition: inline\\nIn-Reply-To: <20020811134458.74257.qmail@web13902.mail.yahoo.com>\\nUser-Agent: Mutt/1.4i\\nFrom: Rick Moen <rick@linuxmafia.com>\\nSender: ilug-admin@linux.ie\\nErrors-To: ilug-admin@linux.ie\\nX-Mailman-Version: 1.1\\nPrecedence: bulk\\nList-Id: Irish Linux Users\\' Group <ilug.linux.ie>\\nX-Beenthere: ilug@linux.ie\\n\\nQuoting Paul Linehan (plinehan@yahoo.com):\\n\\n> Anyway, I should have initiated a new thread for my different request\\n> about S.u.S.E. CDs.\\n\\nYou\\'ll probably want to buy a retail boxed set, e.g., via mail order.\\nThe only editions of SuSE for i386 that are lawful to duplicate and\\nredistribute are as follows:\\n\\nSuSE Evaluation:  This is a single-CD ISO9660 image, currently at v. 7.0. \\nIf you don\\'t mind having only one disk\\'s worth of SuSE, and being\\nseveral revisions behind the boxed-set editions, this is quite good and \\nrecommended.\\n\\nSuSE Live Eval:  Another CD image, currently at v. 8.0, but this one\\ndoesn\\'t install to hard drives at all:  It\\'s a demo disk.\\n\\nSuSE FTP Edition (for lack of an official name):  Not a CD image, but\\nthe contents of ftp://ftp.suse.com/pub/suse/i386/current/ .  You would\\nhave to mirror the ftp directory tree, and then figure out how to\\ninstall (e.g., over NFS).  Currently at v. 8.0.\\n\\nThere are three (non-redistributable) boxed-set editions, at different\\nprice points.\\n\\nI\\'m assuming in the above that you\\'re talking about an i386-architecture\\ncomputer.  Slightly different answers apply for Alpha, IA64, SPARC, PPC,\\nSPARC64, PPC64, or S390.\\n\\n-- \\nCheers,                   \"Teach a man to make fire, and he will be warm \\nRick Moen                 for a day.  Set a man on fire, and he will be warm\\nrick@linuxmafia.com       for the rest of his life.\"   -- John A. Hrastar\\n\\n-- \\nIrish Linux Users\\' Group: ilug@linux.ie\\nhttp://www.linux.ie/mailman/listinfo/ilug for (un)subscription information.\\nList maintainer: listmaster@linux.ie\\n\\n\\n'\n",
            "Label: 0\n"
          ],
          "name": "stdout"
        }
      ]
    },
    {
      "cell_type": "code",
      "metadata": {
        "id": "OdH3s-ffoBeH"
      },
      "source": [
        ""
      ],
      "execution_count": null,
      "outputs": []
    }
  ]
}